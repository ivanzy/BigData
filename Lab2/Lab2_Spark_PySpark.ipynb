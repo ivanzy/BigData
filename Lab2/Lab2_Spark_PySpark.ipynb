{
 "metadata": {
  "kernelspec": {
   "display_name": "Python 3",
   "language": "python",
   "name": "python3"
  },
  "language_info": {
   "codemirror_mode": {
    "name": "ipython",
    "version": 3
   },
   "file_extension": ".py",
   "mimetype": "text/x-python",
   "name": "python",
   "nbconvert_exporter": "python",
   "pygments_lexer": "ipython3",
   "version": "3.6.1"
  },
  "name": "",
  "signature": "sha256:839beb58ab5e7b44ea75e0b61ea91734e4c9926c1d91a23e92f2e5fd537b9058"
 },
 "nbformat": 3,
 "nbformat_minor": 0,
 "worksheets": [
  {
   "cells": [
    {
     "cell_type": "markdown",
     "metadata": {},
     "source": [
      "![CMCC](http://cmcc.ufabc.edu.br/images/logo_site.jpg)\n",
      "# **Spark + Python = PySpark**\n",
      "\n",
      "#### Esse notebook introduz os conceitos b\u00e1sicos do Spark atrav\u00e9s de sua interface com a linguagem Python. Como aplica\u00e7\u00e3o inicial faremos o cl\u00e1ssico examplo de contador de palavras . Com esse exemplo \u00e9 poss\u00edvel entender a l\u00f3gica de programa\u00e7\u00e3o funcional para as diversas tarefas de explora\u00e7\u00e3o de dados distribu\u00eddos.\n",
      "\n",
      "#### Para isso utilizaremos o livro texto [Trabalhos completos de William Shakespeare](http://www.gutenberg.org/ebooks/100) obtidos do  [Projeto Gutenberg](http://www.gutenberg.org/wiki/Main_Page).  Veremos que esse mesmo algoritmo pode ser empregado em textos de qualquer tamanho.\n",
      "\n",
      "#### ** Esse notebook cont\u00e9m:  **\n",
      "#### *Parte 1:* Criando uma base RDD e RDDs de tuplas\n",
      "#### *Parte 2:* Manipulando RDDs de tuplas\n",
      "#### *Parte 3:* Encontrando palavras \u00fanicas e calculando m\u00e9dias\n",
      "#### *Parte 4:* Aplicar contagem de palavras em um arquivo\n",
      "#### *Parte 5:* Similaridade entre Objetos\n",
      "#### Para os exerc\u00edcios \u00e9 aconselh\u00e1vel consultar a documenta\u00e7\u00e3o da [API do PySpark](https://spark.apache.org/docs/latest/api/python/pyspark.html#pyspark.RDD)"
     ]
    },
    {
     "cell_type": "heading",
     "level": 3,
     "metadata": {},
     "source": [
      "** Part 1: Criando e Manipulando RDDs **"
     ]
    },
    {
     "cell_type": "heading",
     "level": 4,
     "metadata": {},
     "source": [
      "Nessa parte do notebook vamos criar uma base RDD a partir de uma lista com o comando `parallelize`."
     ]
    },
    {
     "cell_type": "markdown",
     "metadata": {},
     "source": [
      "#### ** (1a) Criando uma base RDD **\n",
      "#### Podemos criar uma base RDD de diversos tipos e fonte do Python com o comando `sc.parallelize(fonte, particoes)`, sendo fonte uma vari\u00e1vel contendo os dados (ex.: uma lista) e particoes o n\u00famero de parti\u00e7\u00f5es para trabalhar em paralelo."
     ]
    },
    {
     "cell_type": "code",
     "collapsed": false,
     "input": [
      "ListaPalavras = ['gato', 'elefante', 'rato', 'rato', 'gato']\n",
      "palavrasRDD = sc.parallelize(ListaPalavras, 4)\n",
      "print type(palavrasRDD)"
     ],
     "language": "python",
     "metadata": {},
     "outputs": [],
     "prompt_number": null
    },
    {
     "cell_type": "markdown",
     "metadata": {},
     "source": [
      "#### ** (1b) Plural **\n",
      "\n",
      "#### Vamos criar uma fun\u00e7\u00e3o que transforma uma palavra no plural adicionando uma letra 's' ao final da string. Em seguida vamos utilizar a fun\u00e7\u00e3o `map()` para aplicar a transforma\u00e7\u00e3o em cada palavra do RDD.\n",
      "\n",
      "#### Em Python (e muitas outras linguagens) a concatena\u00e7\u00e3o de strings \u00e9 custosa. Uma alternativa melhor \u00e9 criar uma nova string utilizando [`str.format()`](https://docs.python.org/2/library/string.html#format-string-syntax).\n",
      "\n",
      "#### Nota: a string entre os conjuntos de tr\u00eas aspas representa a documenta\u00e7\u00e3o da fun\u00e7\u00e3o. Essa documenta\u00e7\u00e3o \u00e9 exibida com o comando `help()`. Vamos utilizar a padroniza\u00e7\u00e3o de documenta\u00e7\u00e3o sugerida para o Python, manteremos essa documenta\u00e7\u00e3o em ingl\u00eas."
     ]
    },
    {
     "cell_type": "code",
     "collapsed": false,
     "input": [
      "# EXERCICIO\n",
      "def Plural(palavra):\n",
      "    \"\"\"Adds an 's' to `palavra`.\n",
      "\n",
      "    Args:\n",
      "        palavra (str): A string.\n",
      "\n",
      "    Returns:\n",
      "        str: A string with 's' added to it.\n",
      "    \"\"\"\n",
      "    return '{}{}'.format(palavra, 's')\n",
      "\n",
      "print Plural('gato')"
     ],
     "language": "python",
     "metadata": {},
     "outputs": [],
     "prompt_number": null
    },
    {
     "cell_type": "code",
     "collapsed": false,
     "input": [
      "help(Plural)"
     ],
     "language": "python",
     "metadata": {},
     "outputs": [],
     "prompt_number": null
    },
    {
     "cell_type": "code",
     "collapsed": false,
     "input": [
      "assert Plural('rato')=='ratos', 'resultado incorreto!'\n",
      "print 'OK'"
     ],
     "language": "python",
     "metadata": {},
     "outputs": [],
     "prompt_number": null
    },
    {
     "cell_type": "markdown",
     "metadata": {},
     "source": [
      "#### ** (1c) Aplicando a fun\u00e7\u00e3o ao RDD **\n",
      "#### Transforme cada palavra do nosso RDD em plural usando [map()](http://spark.apache.org/docs/latest/api/python/pyspark.html#pyspark.RDD.map) \n",
      "\n",
      "#### Em seguida, utilizaremos o comando  [collect()](http://spark.apache.org/docs/latest/api/python/pyspark.html#pyspark.RDD.collect) que retorna a RDD como uma lista do Python."
     ]
    },
    {
     "cell_type": "code",
     "collapsed": false,
     "input": [
      "# EXERCICIO\n",
      "pluralRDD = palavrasRDD.map(lambda x : '{}{}'.format(x, 's'))\n",
      "print pluralRDD.collect()"
     ],
     "language": "python",
     "metadata": {},
     "outputs": [],
     "prompt_number": null
    },
    {
     "cell_type": "code",
     "collapsed": false,
     "input": [
      "assert pluralRDD.collect()==['gatos','elefantes','ratos','ratos','gatos'], 'valores incorretos!'\n",
      "print 'OK'"
     ],
     "language": "python",
     "metadata": {},
     "outputs": [],
     "prompt_number": null
    },
    {
     "cell_type": "heading",
     "level": 4,
     "metadata": {},
     "source": [
      "** Nota: ** utilize o comando `collect()` apenas quando tiver certeza de que a lista caber\u00e1 na mem\u00f3ria. Para gravar os resultados de volta em arquivo texto ou base de dados utilizaremos outro comando."
     ]
    },
    {
     "cell_type": "markdown",
     "metadata": {},
     "source": [
      "#### ** (1d) Utilizando uma fun\u00e7\u00e3o `lambda` **\n",
      "#### Repita a cria\u00e7\u00e3o de um RDD de plurais, por\u00e9m utilizando uma fun\u00e7\u00e3o lambda."
     ]
    },
    {
     "cell_type": "code",
     "collapsed": false,
     "input": [
      "# EXERCICIO\n",
      "pluralLambdaRDD = palavrasRDD.map(Plural)\n",
      "print pluralLambdaRDD.collect()"
     ],
     "language": "python",
     "metadata": {},
     "outputs": [],
     "prompt_number": null
    },
    {
     "cell_type": "code",
     "collapsed": false,
     "input": [
      "assert pluralLambdaRDD.collect()==['gatos','elefantes','ratos','ratos','gatos'], 'valores incorretos!'\n",
      "print 'OK'"
     ],
     "language": "python",
     "metadata": {},
     "outputs": [],
     "prompt_number": null
    },
    {
     "cell_type": "markdown",
     "metadata": {},
     "source": [
      "#### ** (1e) Tamanho de cada palavra **\n",
      "#### Agora use `map()` e uma fun\u00e7\u00e3o `lambda` para retornar o n\u00famero de caracteres em cada palavra. Utilize `collect()` para armazenar o resultado em forma de listas na vari\u00e1vel destino."
     ]
    },
    {
     "cell_type": "code",
     "collapsed": false,
     "input": [
      "# EXERCICIO\n",
      "pluralTamanho = (pluralRDD.map(len)).collect()\n",
      "print pluralTamanho"
     ],
     "language": "python",
     "metadata": {},
     "outputs": [],
     "prompt_number": null
    },
    {
     "cell_type": "code",
     "collapsed": false,
     "input": [
      "assert pluralTamanho==[5,9,5,5,5], 'valores incorretos'\n",
      "print \"OK\""
     ],
     "language": "python",
     "metadata": {},
     "outputs": [],
     "prompt_number": null
    },
    {
     "cell_type": "markdown",
     "metadata": {},
     "source": [
      "#### ** (1f) RDDs de pares e tuplas **\n",
      "\n",
      "#### Para contar a frequ\u00eancia de cada palavra de maneira distribu\u00edda, primeiro devemos atribuir um valor para cada palavra do RDD. Isso ir\u00e1 gerar um base de dados (chave, valor). Desse modo podemos agrupar a base atrav\u00e9s da chave, calculando a soma dos valores atribu\u00eddos. No nosso caso, vamos atribuir o valor `1` para cada palavra.\n",
      "\n",
      "#### Um RDD contendo a estrutura de tupla chave-valor `(k,v) ` \u00e9 chamada de RDD de tuplas ou *pair RDD*.\n",
      "\n",
      "#### Vamos criar nosso RDD de pares usando a transforma\u00e7\u00e3o  `map()` com uma fun\u00e7\u00e3o `lambda()`."
     ]
    },
    {
     "cell_type": "code",
     "collapsed": false,
     "input": [
      "# EXERCICIO\n",
      "palavraPar = palavrasRDD.map(lambda x: (x,1))\n",
      "print palavraPar.collect()"
     ],
     "language": "python",
     "metadata": {},
     "outputs": [],
     "prompt_number": null
    },
    {
     "cell_type": "code",
     "collapsed": false,
     "input": [
      "assert palavraPar.collect() == [('gato',1),('elefante',1),('rato',1),('rato',1),('gato',1)], 'valores incorretos!'\n",
      "print \"OK\""
     ],
     "language": "python",
     "metadata": {},
     "outputs": [],
     "prompt_number": null
    },
    {
     "cell_type": "heading",
     "level": 3,
     "metadata": {},
     "source": [
      "** Parte 2: Manipulando RDD de tuplas **"
     ]
    },
    {
     "cell_type": "heading",
     "level": 4,
     "metadata": {},
     "source": [
      "Vamos manipular nossa RDD para contar as palavras do texto."
     ]
    },
    {
     "cell_type": "markdown",
     "metadata": {},
     "source": [
      "#### ** (2a) Fun\u00e7\u00e3o `groupByKey()`  **\n",
      "\n",
      "#### A fun\u00e7\u00e3o [groupByKey()](http://spark.apache.org/docs/latest/api/python/pyspark.html#pyspark.RDD.groupByKey) agrupa todos os valores de um RDD atrav\u00e9s da chave (primeiro elemento da tupla) agregando os valores em uma lista.\n",
      "\n",
      "#### Essa abordagem tem um ponto fraco pois:\n",
      "  + #### A opera\u00e7\u00e3o requer que os dados distribu\u00eddos sejam movidos em massa para que permane\u00e7am na parti\u00e7\u00e3o correta.\n",
      "  + #### As listas podem se tornar muito grandes. Imagine contar todas as palavras do Wikipedia: termos comuns como \"a\", \"e\" formar\u00e3o uma lista enorme de valores que pode n\u00e3o caber na mem\u00f3ria do processo escravo.\n",
      " "
     ]
    },
    {
     "cell_type": "code",
     "collapsed": false,
     "input": [
      "# EXERCICIO\n",
      "palavrasGrupo = palavraPar.groupByKey()\n",
      "for chave, valor in palavrasGrupo.collect():\n",
      "    print '{0}: {1}'.format(chave, list(valor))"
     ],
     "language": "python",
     "metadata": {},
     "outputs": [],
     "prompt_number": null
    },
    {
     "cell_type": "code",
     "collapsed": false,
     "input": [
      "assert sorted(palavrasGrupo.mapValues(lambda x: list(x)).collect()) == [('elefante', [1]), ('gato',[1, 1]), ('rato',[1, 1])],\n",
      "        'Valores incorretos!'\n",
      "print \"OK\""
     ],
     "language": "python",
     "metadata": {},
     "outputs": [],
     "prompt_number": null
    },
    {
     "cell_type": "markdown",
     "metadata": {},
     "source": [
      "#### ** (2b) Calculando as contagens **\n",
      "#### Ap\u00f3s o  `groupByKey()` nossa RDD cont\u00e9m elementos compostos da palavra, como chave, e um iterador contendo todos os valores correspondentes aquela chave.\n",
      "#### Utilizando a transforma\u00e7\u00e3o `mapValues()` e a fun\u00e7\u00e3o `sum()`, contrua um novo RDD que consiste de tuplas (chave, soma)."
     ]
    },
    {
     "cell_type": "code",
     "collapsed": false,
     "input": [
      "# EXERCICIO\n",
      "contagemGroup = palavrasGrupo.mapValues(sum)\n",
      "print contagemGroup.collect()"
     ],
     "language": "python",
     "metadata": {},
     "outputs": [],
     "prompt_number": null
    },
    {
     "cell_type": "code",
     "collapsed": false,
     "input": [
      "assert list(sorted(contagemGroup.collect()))==[('elefante',1), ('gato',2), ('rato',2)], 'valores incorretos!'\n",
      "print \"OK\""
     ],
     "language": "python",
     "metadata": {},
     "outputs": [],
     "prompt_number": null
    },
    {
     "cell_type": "markdown",
     "metadata": {},
     "source": [
      "#### ** (2c) `reduceByKey` **\n",
      "#### Um comando mais interessante para a contagem \u00e9 o  [reduceByKey()](http://spark.apache.org/docs/latest/api/python/pyspark.html#pyspark.RDD.reduceByKey) que cria uma nova RDD de tuplas.\n",
      "\n",
      "#### Essa transforma\u00e7\u00e3o aplica a transforma\u00e7\u00e3o `reduce()` vista na aula anterior para os valores de cada chave. Dessa forma, a fun\u00e7\u00e3o de transforma\u00e7\u00e3o pode ser aplicada em cada parti\u00e7\u00e3o local para depois ser enviada para redistribui\u00e7\u00e3o de parti\u00e7\u00f5es, reduzindo o total de dados sendo movidos e n\u00e3o mantendo listas grandes na mem\u00f3ria."
     ]
    },
    {
     "cell_type": "code",
     "collapsed": false,
     "input": [
      "# EXERCICIO\n",
      "contagem = palavraPar.reduceByKey(lambda x,y : x+y)\n",
      "print contagem.collect()"
     ],
     "language": "python",
     "metadata": {},
     "outputs": [],
     "prompt_number": null
    },
    {
     "cell_type": "code",
     "collapsed": false,
     "input": [
      "assert sorted(contagem.collect())==[('elefante',1), ('gato',2), ('rato',2)], 'valores incorretos!'\n",
      "print \"OK\""
     ],
     "language": "python",
     "metadata": {},
     "outputs": [],
     "prompt_number": null
    },
    {
     "cell_type": "markdown",
     "metadata": {},
     "source": [
      "#### ** (2d) Agrupando os comandos **\n",
      "\n",
      "#### A forma mais usual de realizar essa tarefa, partindo do nosso RDD palavrasRDD, \u00e9 encadear os comandos map e reduceByKey em uma linha de comando."
     ]
    },
    {
     "cell_type": "code",
     "collapsed": false,
     "input": [
      "# EXERCICIO\n",
      "contagemFinal = (palavrasRDD.map(lambda x:(x,1)).reduceByKey(lambda x,y : x+y))\n",
      "print contagemFinal.collect()"
     ],
     "language": "python",
     "metadata": {},
     "outputs": [],
     "prompt_number": null
    },
    {
     "cell_type": "code",
     "collapsed": false,
     "input": [
      "assert sorted(contagemFinal)==[('elefante',1), ('gato',2), ('rato',2)], 'valores incorretos!'\n",
      "print \"OK\""
     ],
     "language": "python",
     "metadata": {},
     "outputs": [],
     "prompt_number": null
    },
    {
     "cell_type": "heading",
     "level": 3,
     "metadata": {},
     "source": [
      "** Parte 3: Encontrando as palavras \u00fanicas e calculando a m\u00e9dia de contagem **"
     ]
    },
    {
     "cell_type": "markdown",
     "metadata": {},
     "source": [
      "#### ** (3a) Palavras \u00danicas **\n",
      "\n",
      "#### Calcule a quantidade de palavras \u00fanicas do RDD. Utilize comandos de RDD da API do PySpark e alguma das \u00faltimas RDDs geradas nos exerc\u00edcios anteriores."
     ]
    },
    {
     "cell_type": "code",
     "collapsed": false,
     "input": [
      "# EXERCICIO\n",
      "palavrasUnicas = palavrasRDD.map(lambda x: (x,1)).distinct().values().sum()\n",
      "print palavrasUnicas"
     ],
     "language": "python",
     "metadata": {},
     "outputs": [],
     "prompt_number": null
    },
    {
     "cell_type": "code",
     "collapsed": false,
     "input": [
      "assert palavrasUnicas==3, 'valor incorreto!'\n",
      "print \"OK\""
     ],
     "language": "python",
     "metadata": {},
     "outputs": [],
     "prompt_number": null
    },
    {
     "cell_type": "markdown",
     "metadata": {},
     "source": [
      "#### ** (3b) Calculando a M\u00e9dia de contagem de palavras **\n",
      "\n",
      "#### Encontre a m\u00e9dia de frequ\u00eancia das palavras utilizando o RDD `contagem`.\n",
      "\n",
      "#### Note que a fun\u00e7\u00e3o do comando `reduce()` \u00e9 aplicada em cada tupla do RDD. Para realizar a soma das contagens, primeiro \u00e9 necess\u00e1rio mapear o RDD para um RDD contendo apenas os valores das frequ\u00eancias (sem as chaves)."
     ]
    },
    {
     "cell_type": "code",
     "collapsed": false,
     "input": [
      "# EXERCICIO\n",
      "# add \u00e9 equivalente a lambda x,y: x+y\n",
      "from operator import add\n",
      "total = (contagemFinal.values().reduce(lambda x,y:x+y))\n",
      "\n",
      "media = total / float(palavrasUnicas)\n",
      "print total\n",
      "print round(media, 2)"
     ],
     "language": "python",
     "metadata": {},
     "outputs": [],
     "prompt_number": null
    },
    {
     "cell_type": "code",
     "collapsed": false,
     "input": [
      "assert round(media, 2)==1.67, 'valores incorretos!'\n",
      "print \"OK\""
     ],
     "language": "python",
     "metadata": {},
     "outputs": [],
     "prompt_number": null
    },
    {
     "cell_type": "heading",
     "level": 3,
     "metadata": {},
     "source": [
      "** Parte 4: Aplicar nosso algoritmo em um arquivo **"
     ]
    },
    {
     "cell_type": "markdown",
     "metadata": {},
     "source": [
      "#### ** (4a) Fun\u00e7\u00e3o `contaPalavras` **\n",
      "\n",
      "#### Para podermos aplicar nosso algoritmo gen\u00e9ricamente em diversos RDDs, vamos primeiro criar uma fun\u00e7\u00e3o para aplic\u00e1-lo em qualquer fonte de dados. Essa fun\u00e7\u00e3o recebe de entrada um RDD contendo uma lista de chaves (palavras) e retorna um RDD de tuplas com as chaves e a contagem delas nessa RDD"
     ]
    },
    {
     "cell_type": "code",
     "collapsed": false,
     "input": [
      "# EXERCICIO\n",
      "def contaPalavras(chavesRDD):\n",
      "    \"\"\"Creates a pair RDD with word counts from an RDD of words.\n",
      "\n",
      "    Args:\n",
      "        chavesRDD (RDD of str): An RDD consisting of words.\n",
      "\n",
      "    Returns:\n",
      "        RDD of (str, int): An RDD consisting of (word, count) tuples.\n",
      "    \"\"\"\n",
      "     return (chavesRDD.flatMap(lambda x: x.split()).map(lambda x : (x.lower(),1)).reduceByKey(lambda x,y: x+y))\n",
      "print contaPalavras(palavrasRDD).collect()"
     ],
     "language": "python",
     "metadata": {},
     "outputs": [],
     "prompt_number": null
    },
    {
     "cell_type": "code",
     "collapsed": false,
     "input": [
      "assert sorted(contaPalavras(palavrasRDD).collect())==[('elefante',1), ('gato',2), ('rato',2)], 'valores incorretos!'\n",
      "print \"OK\""
     ],
     "language": "python",
     "metadata": {},
     "outputs": [],
     "prompt_number": null
    },
    {
     "cell_type": "markdown",
     "metadata": {},
     "source": [
      "#### ** (4b) Normalizando o texto **\n",
      "\n",
      "#### Quando trabalhamos com dados reais, geralmente precisamos padronizar os atributos de tal forma que diferen\u00e7as sutis por conta de erro de medi\u00e7\u00e3o ou diferen\u00e7a de normatiza\u00e7\u00e3o, sejam desconsideradas. Para o pr\u00f3ximo passo vamos padronizar o texto para:\n",
      "  + #### Padronizar a capitaliza\u00e7\u00e3o das palavras (tudo mai\u00fasculo ou tudo min\u00fasculo).\n",
      "  + #### Remover pontua\u00e7\u00e3o.\n",
      "  + #### Remover espa\u00e7os no in\u00edcio e no final da palavra.\n",
      " \n",
      "#### Crie uma fun\u00e7\u00e3o `removerPontuacao` que converte todo o texto para min\u00fascula, remove qualquer pontua\u00e7\u00e3o e espa\u00e7os em branco no in\u00edcio ou final da palavra. Para isso, utilize a biblioteca [re](https://docs.python.org/2/library/re.html) para remover todo texto que n\u00e3o seja letra, n\u00famero ou espa\u00e7o, encadeando com as fun\u00e7\u00f5es de string para remover espa\u00e7os em branco e converter para min\u00fascula (veja [Strings](https://docs.python.org/2/library/stdtypes.html?highlight=str.lower#string-methods))."
     ]
    },
    {
     "cell_type": "code",
     "collapsed": false,
     "input": [
      "# EXERCICIO\n",
      "import re\n",
      "def removerPontuacao(texto):\n",
      "    \"\"\"Removes punctuation, changes to lower case, and strips leading and trailing spaces.\n",
      "\n",
      "    Note:\n",
      "        Only spaces, letters, and numbers should be retained.  Other characters should should be\n",
      "        eliminated (e.g. it's becomes its).  Leading and trailing spaces should be removed after\n",
      "        punctuation is removed.\n",
      "\n",
      "    Args:\n",
      "        texto (str): A string.\n",
      "\n",
      "    Returns:\n",
      "        str: The cleaned up string.\n",
      "    \"\"\"\n",
      "    return re.sub(r'[^A-Za-z0-9 ]', '', texto).strip().lower()\n",
      "print removerPontuacao('Ola, quem esta ai??!')\n",
      "print removerPontuacao(' Sem espaco e_sublinhado!')"
     ],
     "language": "python",
     "metadata": {},
     "outputs": [
      {
       "output_type": "stream",
       "stream": "stdout",
       "text": [
        "ola quem esta ai\n",
        "sem espaco esublinhado\n"
       ]
      }
     ],
     "prompt_number": 5
    },
    {
     "cell_type": "code",
     "collapsed": false,
     "input": [
      "assert removerPontuacao(' O uso de virgulas, embora permitido, nao deve contar. ')=='o uso de virgulas embora permitido nao deve contar', 'string incorreta!'\n",
      "print \"OK\""
     ],
     "language": "python",
     "metadata": {},
     "outputs": [
      {
       "output_type": "stream",
       "stream": "stdout",
       "text": [
        "OK\n"
       ]
      }
     ],
     "prompt_number": 6
    },
    {
     "cell_type": "markdown",
     "metadata": {},
     "source": [
      "#### ** (4c) Carregando arquivo texto  **\n",
      "\n",
      "#### Para a pr\u00f3xima parte vamos utilizar o livro [Trabalhos completos de William Shakespeare](http://www.gutenberg.org/ebooks/100) do [Projeto Gutenberg](http://www.gutenberg.org/wiki/Main_Page). \n",
      "\n",
      "#### Para converter um texto em uma RDD, utilizamos a fun\u00e7\u00e3o `textFile()` que recebe como entrada o nome do arquivo texto que queremos utilizar e o n\u00famero de parti\u00e7\u00f5es.\n",
      "\n",
      "#### O nome do arquivo texto pode se referir a um arquivo local ou uma URI de arquivo distribu\u00eddo (ex.: hdfs://).\n",
      "\n",
      "#### Vamos tamb\u00e9m aplicar a fun\u00e7\u00e3o `removerPontuacao()` para normalizar o texto e verificar as 15 primeiras linhas com o comando `take()`."
     ]
    },
    {
     "cell_type": "code",
     "collapsed": false,
     "input": [
      "# Apenas execute a c\u00e9lula\n",
      "import os.path\n",
      "import urllib2\n",
      "\n",
      "url = 'http://www.gutenberg.org/cache/epub/100/pg100.txt' # url do livro\n",
      "\n",
      "arquivo = os.path.join('Data','Aula02','shakespeare.txt') # local de destino: 'Data/Aula02/shakespeare.txt'\n",
      "\n",
      "if os.path.isfile(arquivo):     # verifica se j\u00e1 fizemos download do arquivo\n",
      "    print 'Arquivo j\u00e1 existe!'\n",
      "else:\n",
      "    try:        \n",
      "        response = urllib2.urlopen(url)\n",
      "        arquivo = (response.read()).split() #ja gera uma lista de palavra\n",
      "    #copiou at\u00e9 o meu coment\u00e1rio professor? haha\n",
      "        \n",
      "    except IOError:\n",
      "        print 'Imposs\u00edvel fazer o download: {0}'.format(url)\n",
      "\n",
      "# l\u00ea o arquivo com textFile e aplica a fun\u00e7\u00e3o removerPontuacao        \n",
      "shakesRDD = (sc\n",
      "             .textFile(arquivo, 8)\n",
      "             .map(removerPontuacao)\n",
      "             )\n",
      "\n",
      "# zipWithIndex gera tuplas (conteudo, indice) onde indice \u00e9 a posi\u00e7\u00e3o do conteudo na lista sequencial\n",
      "# Ex.: sc.parallelize(['gato','cachorro','boi']).zipWithIndex() ==> [('gato',0), ('cachorro',1), ('boi',2)]\n",
      "# sep.join() junta as strings de uma lista atrav\u00e9s do separador sep. Ex.: ','.join(['a','b','c']) ==> 'a,b,c'\n",
      "print '\\n'.join(shakesRDD\n",
      "                .zipWithIndex()\n",
      "                .map(lambda (linha, num): '{0}: {1}'.format(num,linha))\n",
      "                .take(15)\n",
      "               )"
     ],
     "language": "python",
     "metadata": {},
     "outputs": [
      {
       "output_type": "stream",
       "stream": "stdout",
       "text": [
        "Arquivo j\u00e1 existe!\n",
        "0: the project gutenberg ebook of the complete works of william shakespeare by\n",
        "1: william shakespeare\n",
        "2: \n",
        "3: this ebook is for the use of anyone anywhere at no cost and with\n",
        "4: almost no restrictions whatsoever  you may copy it give it away or\n",
        "5: reuse it under the terms of the project gutenberg license included\n",
        "6: with this ebook or online at wwwgutenbergorg\n",
        "7: \n",
        "8: this is a copyrighted project gutenberg ebook details below\n",
        "9: please follow the copyright guidelines in this file\n",
        "10: \n",
        "11: title the complete works of william shakespeare\n",
        "12: \n",
        "13: author william shakespeare\n",
        "14: \n"
       ]
      }
     ],
     "prompt_number": 7
    },
    {
     "cell_type": "markdown",
     "metadata": {},
     "source": [
      "#### ** (4d) Extraindo as palavras **\n",
      "#### Antes de poder usar nossa fun\u00e7\u00e3o Before we can use the `contaPalavras()`, temos ainda que trabalhar em cima da nossa RDD:\n",
      "  + #### Precisamos gerar listas de palavras ao inv\u00e9s de listas de senten\u00e7as.\n",
      "  + #### Eliminar linhas vazias.\n",
      " \n",
      "#### As strings em Python tem o m\u00e9todo [split()](https://docs.python.org/2/library/string.html#string.split) que faz a separa\u00e7\u00e3o de uma string por separador. No nosso caso, queremos separar as strings por espa\u00e7o. \n",
      "\n",
      "#### Utilize a fun\u00e7\u00e3o `map()` para gerar um novo RDD como uma lista de palavras."
     ]
    },
    {
     "cell_type": "code",
     "collapsed": false,
     "input": [
      "# EXERCICIO\n",
      "# o codigo de cima, que enviei, j\u00e1 gera uma lista de palavras\n",
      "shakesPalavrasRDD = shakesRDD\n",
      "total = shakesPalavrasRDD.count()\n",
      "print shakesPalavrasRDD.take(5)\n",
      "print total"
     ],
     "language": "python",
     "metadata": {},
     "outputs": [],
     "prompt_number": null
    },
    {
     "cell_type": "markdown",
     "metadata": {},
     "source": [
      "#### Conforme deve ter percebido, o uso da fun\u00e7\u00e3o `map()` gera uma lista para cada linha, criando um RDD contendo uma lista de listas.\n",
      "\n",
      "#### Para resolver esse problema, o Spark possui uma fun\u00e7\u00e3o an\u00e1loga chamada `flatMap()` que aplica a transforma\u00e7\u00e3o do `map()`, por\u00e9m *achatando* o retorno em forma de lista para uma lista unidimensional."
     ]
    },
    {
     "cell_type": "code",
     "collapsed": false,
     "input": [
      "# EXERCICIO\n",
      "shakesPalavrasRDD = shakesRDD.flatMap(lambda x: x.split())\n",
      "total = shakesPalavrasRDD.count()\n",
      "print shakesPalavrasRDD.top(5)\n",
      "print total"
     ],
     "language": "python",
     "metadata": {},
     "outputs": [
      {
       "output_type": "stream",
       "stream": "stdout",
       "text": [
        "[u'zwaggerd', u'zounds', u'zounds', u'zounds', u'zounds']\n",
        "903705\n"
       ]
      }
     ],
     "prompt_number": 10
    },
    {
     "cell_type": "markdown",
     "metadata": {},
     "source": [
      "**Nota:** os asserts abaixo de contagem de palavra podem falhar por diferen\u00e7a de formato do arquivo .txt antigo e novo. Eu avaliarei somente os c\u00f3digos nesse trecho."
     ]
    },
    {
     "cell_type": "code",
     "collapsed": false,
     "input": [
      "assert total==927631 or total == 928908, \"valor incorreto de palavras!\"\n",
      "print \"OK\"\n",
      "assert shakesPalavrasRDD.top(5)==[u'zwaggerd', u'zounds', u'zounds', u'zounds', u'zounds'],'lista incorreta de palavras'\n",
      "print \"OK\""
     ],
     "language": "python",
     "metadata": {},
     "outputs": [],
     "prompt_number": null
    },
    {
     "cell_type": "markdown",
     "metadata": {},
     "source": [
      "#### ** (4e) Remover linhas vazias **\n",
      "\n",
      "#### Para o pr\u00f3ximo passo vamos filtrar as linhas vazias com o comando `filter()`. Uma linha vazia \u00e9 uma string sem nenhum conte\u00fado."
     ]
    },
    {
     "cell_type": "code",
     "collapsed": false,
     "input": [
      "# EXERCICIO\n",
      "shakesLimpoRDD = shakesRDD.filter(lambda x : len(x.strip())>0)\n",
      "total = shakesLimpoRDD.count()\n",
      "print total"
     ],
     "language": "python",
     "metadata": {},
     "outputs": [],
     "prompt_number": null
    },
    {
     "cell_type": "code",
     "collapsed": false,
     "input": [
      "assert total==882996, 'valor incorreto!'\n",
      "print \"OK\""
     ],
     "language": "python",
     "metadata": {},
     "outputs": [],
     "prompt_number": null
    },
    {
     "cell_type": "markdown",
     "metadata": {},
     "source": [
      "#### ** (4f) Contagem de palavras **\n",
      "#### Agora que nossa RDD cont\u00e9m uma lista de palavras, podemos aplicar nossa fun\u00e7\u00e3o `contaPalavras()`.\n",
      "\n",
      "#### Aplique a fun\u00e7\u00e3o em nossa RDD e utilize a fun\u00e7\u00e3o `takeOrdered` para imprimir as 15 palavras mais frequentes.\n",
      "\n",
      "#### `takeOrdered()` pode receber um segundo par\u00e2metro que instrui o Spark em como ordenar os elementos. Ex.:\n",
      "\n",
      "#### `takeOrdered(15, key=lambda x: -x)`: ordem decrescente dos valores de x"
     ]
    },
    {
     "cell_type": "code",
     "collapsed": false,
     "input": [
      "# EXERCICIO\n",
      "top15= shakesLimpoRDD.map(lambda x: (x,1)).reduceByKey(lambda x,y : x+y).map(lambda (k,v): (v,k)).sortByKey(False).take(15)\n",
      "print '\\n'.join(map(lambda (w, c): '{0}: {1}'.format(w, c), top15))"
     ],
     "language": "python",
     "metadata": {},
     "outputs": [],
     "prompt_number": null
    },
    {
     "cell_type": "code",
     "collapsed": false,
     "input": [
      "assert top15 == [(u'the', 27361), (u'and', 26028), (u'i', 20681), (u'to', 19150), (u'of', 17463),\n",
      "                   (u'a', 14593), (u'you', 13615), (u'my', 12481), (u'in', 10956), (u'that', 10890),\n",
      "                   (u'is', 9134), (u'not', 8497), (u'with', 7771), (u'me', 7769), (u'it', 7678)],'valores incorretos!'\n",
      "print \"OK\""
     ],
     "language": "python",
     "metadata": {},
     "outputs": [],
     "prompt_number": null
    },
    {
     "cell_type": "heading",
     "level": 3,
     "metadata": {},
     "source": [
      "** Parte 5: Similaridade entre Objetos **"
     ]
    },
    {
     "cell_type": "heading",
     "level": 3,
     "metadata": {},
     "source": [
      "Nessa parte do laborat\u00f3rio vamos aprender a calcular a dist\u00e2ncia entre atributos num\u00e9ricos, categ\u00f3ricos e textuais."
     ]
    },
    {
     "cell_type": "markdown",
     "metadata": {},
     "source": [
      "#### ** (5a) Vetores no espa\u00e7o Euclidiano **\n",
      "\n",
      "#### Quando nossos objetos s\u00e3o representados no espa\u00e7o Euclidiano, medimos a similaridade entre eles atrav\u00e9s da *p-Norma* definida por:\n",
      "\n",
      "#### $$d(x,y,p) = (\\sum_{i=1}^{n}{|x_i - y_i|^p})^{1/p}$$\n",
      "\n",
      "#### As normas mais utilizadas s\u00e3o $p=1,2,\\infty$ que se reduzem em dist\u00e2ncia absoluta, Euclidiana e m\u00e1xima dist\u00e2ncia:\n",
      "\n",
      "#### $$d(x,y,1) = \\sum_{i=1}^{n}{|x_i - y_i|}$$\n",
      "\n",
      "#### $$d(x,y,2) = (\\sum_{i=1}^{n}{|x_i - y_i|^2})^{1/2}$$\n",
      "\n",
      "#### $$d(x,y,\\infty) = \\max(|x_1 - y_1|,|x_2 - y_2|, ..., |x_n - y_n|)$$"
     ]
    },
    {
     "cell_type": "code",
     "collapsed": true,
     "input": [
      "import numpy as np\n",
      "\n",
      "# Vamos criar uma fun\u00e7\u00e3o pNorm que recebe como par\u00e2metro p e retorna uma fun\u00e7\u00e3o que calcula a pNorma\n",
      "def pNorm(p):\n",
      "    \"\"\"Generates a function to calculate the p-Norm between two points.\n",
      "\n",
      "    Args:\n",
      "        p (int): The integer p.\n",
      "\n",
      "    Returns:\n",
      "        Dist: A function that calculates the p-Norm.\n",
      "    \"\"\"\n",
      "\n",
      "    def Dist(x,y):\n",
      "        return np.power(np.power(np.abs(x-y),p).sum(),1/float(p))\n",
      "    return Dist"
     ],
     "language": "python",
     "metadata": {},
     "outputs": [],
     "prompt_number": null
    },
    {
     "cell_type": "code",
     "collapsed": false,
     "input": [
      "# Vamos criar uma RDD com valores num\u00e9ricos\n",
      "numPointsRDD = sc.parallelize(enumerate(np.random.random(size=(10,100))))"
     ],
     "language": "python",
     "metadata": {},
     "outputs": [],
     "prompt_number": null
    },
    {
     "cell_type": "code",
     "collapsed": false,
     "input": [
      "# EXERCICIO\n",
      "# Procure dentre os comandos do PySpark, um que consiga fazer o produto cartesiano da base com ela mesma\n",
      "cartPointsRDD = numPointsRDD.cartesian(numPointsRDD)\n",
      "\n",
      "# Aplique um mapa para transformar nossa RDD em uma RDD de tuplas ((id1,id2), (vetor1,vetor2))\n",
      "# DICA: primeiro utilize o comando take(1) e imprima o resultado para verificar o formato atual da RDD\n",
      "cartPointsParesRDD = cartPointsRDD.map(lambda x: ( (x[0][0],x[1][0]),(x[0][1],x[1][1]) ) )\n",
      "\n",
      "# Aplique um mapa para calcular a Dist\u00e2ncia Euclidiana entre os pares\n",
      "Euclid = pNorm(2)\n",
      "distRDD = cartPointsParesRDD.map(lambda (x,y): ((x), Euclid(y[0],y[1])))\n",
      "\n",
      "# Encontre a dist\u00e2ncia m\u00e1xima, m\u00ednima e m\u00e9dia, aplicando um mapa que transforma (chave,valor) --> valor\n",
      "# e utilizando os comandos internos do pyspark para o c\u00e1lculo da min, max, mean\n",
      "statRDD = distRDD.map(lambda x: x[1])\n",
      "\n",
      "minv, maxv, meanv = statRDD.min(), statRDD.max(), statRDD.mean()\n",
      "print minv, maxv, meanv"
     ],
     "language": "python",
     "metadata": {},
     "outputs": [],
     "prompt_number": null
    },
    {
     "cell_type": "code",
     "collapsed": false,
     "input": [
      "assert (minv.round(2), maxv.round(2), meanv.round(2))==(0.0, 4.70, 3.65), 'Valores incorretos'\n",
      "print \"OK\""
     ],
     "language": "python",
     "metadata": {},
     "outputs": [],
     "prompt_number": null
    },
    {
     "cell_type": "markdown",
     "metadata": {},
     "source": [
      "#### ** (5b) Valores Categ\u00f3ricos **\n",
      "\n",
      "#### Quando nossos objetos s\u00e3o representados por atributos categ\u00f3ricos, eles n\u00e3o possuem uma similaridade espacial. Para calcularmos a similaridade entre eles podemos primeiro transformar nosso vetor de atrbutos em um vetor bin\u00e1rio indicando, para cada poss\u00edvel valor de cada atributo, se ele possui esse atributo ou n\u00e3o.\n",
      "\n",
      "#### Com o vetor bin\u00e1rio podemos utilizar a dist\u00e2ncia de Hamming  definida por:\n",
      "\n",
      "#### $$ H(x,y) = \\sum_{i=1}^{n}{x_i != y_i} $$\n",
      "\n",
      "#### Tamb\u00e9m \u00e9 poss\u00edvel definir a dist\u00e2ncia de Jaccard como:\n",
      "\n",
      "#### $$ J(x,y) = \\frac{\\sum_{i=1}^{n}{x_i == y_i} }{\\sum_{i=1}^{n}{\\max(x_i, y_i}) } $$"
     ]
    },
    {
     "cell_type": "code",
     "collapsed": true,
     "input": [
      "# Vamos criar uma fun\u00e7\u00e3o para calcular a dist\u00e2ncia de Hamming\n",
      "def Hamming(x,y):\n",
      "    \"\"\"Calculates the Hamming distance between two binary vectors.\n",
      "\n",
      "    Args:\n",
      "        x, y (np.array): Array of binary integers x and y.\n",
      "\n",
      "    Returns:\n",
      "        H (int): The Hamming distance between x and y.\n",
      "    \"\"\"\n",
      "    return (x!=y).sum()\n",
      "\n",
      "# Vamos criar uma fun\u00e7\u00e3o para calcular a dist\u00e2ncia de Jaccard\n",
      "def Jaccard(x,y):\n",
      "    \"\"\"Calculates the Jaccard distance between two binary vectors.\n",
      "\n",
      "    Args:\n",
      "        x, y (np.array): Array of binary integers x and y.\n",
      "\n",
      "    Returns:\n",
      "        J (int): The Jaccard distance between x and y.\n",
      "    \"\"\"\n",
      "    return (x==y).sum()/float( np.maximum(x,y).sum() )"
     ],
     "language": "python",
     "metadata": {},
     "outputs": [],
     "prompt_number": null
    },
    {
     "cell_type": "code",
     "collapsed": false,
     "input": [
      "# Vamos criar uma RDD com valores categ\u00f3ricos\n",
      "catPointsRDD = sc.parallelize(enumerate([['alto', 'caro', 'azul'],\n",
      "                             ['medio', 'caro', 'verde'],\n",
      "                             ['alto', 'barato', 'azul'],\n",
      "                             ['medio', 'caro', 'vermelho'],\n",
      "                             ['baixo', 'barato', 'verde'],\n",
      "                            ]))"
     ],
     "language": "python",
     "metadata": {},
     "outputs": [],
     "prompt_number": null
    },
    {
     "cell_type": "code",
     "collapsed": false,
     "input": [
      "# EXERCICIO\n",
      "# Crie um RDD de chaves \u00fanicas utilizando flatMap\n",
      "\n",
      "teste1 = catPointsRDD.map( lambda(x,y): y) \n",
      "teste1 = teste1.flatMap(lambda x : x)\n",
      "teste1 = teste1.distinct()\n",
      "chavesRDD = teste1\n",
      "\n",
      "chaves = dict((v,k) for k,v in enumerate(chavesRDD.collect()))\n",
      "nchaves = len(chaves)\n",
      "print chaves, nchaves"
     ],
     "language": "python",
     "metadata": {},
     "outputs": [],
     "prompt_number": null
    },
    {
     "cell_type": "code",
     "collapsed": false,
     "input": [
      "assert chaves=={'alto': 0, 'medio': 1, 'baixo': 2, 'barato': 3, 'azul': 4, 'verde': 5, 'caro': 6, 'vermelho': 7}, 'valores incorretos!'\n",
      "print \"OK\"\n",
      "\n",
      "assert nchaves==8, 'n\u00famero de chaves incorreta'\n",
      "print \"OK\""
     ],
     "language": "python",
     "metadata": {},
     "outputs": [],
     "prompt_number": null
    },
    {
     "cell_type": "code",
     "collapsed": false,
     "input": [
      "def CreateNP(atributos,chaves):  \n",
      "    \"\"\"Binarize the categorical vector using a dictionary of keys.\n",
      "\n",
      "    Args:\n",
      "        atributos (list): List of attributes of a given object.\n",
      "        chaves (dict): dictionary with the relation attribute -> index\n",
      "\n",
      "    Returns:\n",
      "        array (np.array): Binary array of attributes.\n",
      "    \"\"\"\n",
      "    \n",
      "    array = np.zeros(len(chaves))\n",
      "    for atr in atributos:\n",
      "        array[ chaves[atr] ] = 1\n",
      "    return array\n",
      "\n",
      "# Converte o RDD para o formato bin\u00e1rio, utilizando o dict chaves\n",
      "binRDD = catPointsRDD.map(lambda rec: (rec[0],CreateNP(rec[1], chaves)))\n",
      "binRDD.collect()"
     ],
     "language": "python",
     "metadata": {},
     "outputs": [],
     "prompt_number": null
    },
    {
     "cell_type": "code",
     "collapsed": false,
     "input": [
      "# EXERCICIO\n",
      "# Procure dentre os comandos do PySpark, um que consiga fazer o produto cartesiano da base com ela mesma\n",
      "cartBinRDD = binRDD.cartesian(binRDD)\n",
      "\n",
      "# Aplique um mapa para transformar nossa RDD em uma RDD de tuplas ((id1,id2), (vetor1,vetor2))\n",
      "# DICA: primeiro utilize o comando take(1) e imprima o resultado para verificar o formato atual da RDD\n",
      "cartBinParesRDD = cartBinRDD..map(lambda x: ( (x[0][0],x[1][0]),(x[0][1],x[1][1]) ) )\n",
      "\n",
      "\n",
      "# Aplique um mapa para calcular a Dist\u00e2ncia de Hamming e Jaccard entre os pares\n",
      "hamRDD = cartBinParesRDD.map(lambda (x,y): ((x), Hamming(y[0],y[1])))\n",
      "jacRDD = cartBinParesRDD.map(lambda (x,y): ((x), Jaccard(y[0],y[1])))\n",
      "\n",
      "# Encontre a dist\u00e2ncia m\u00e1xima, m\u00ednima e m\u00e9dia, aplicando um mapa que transforma (chave,valor) --> valor\n",
      "# e utilizando os comandos internos do pyspark para o c\u00e1lculo da min, max, mean\n",
      "statHRDD = hamRDD.map(lambda x: x[1])\n",
      "statJRDD = jacRDD.map(lambda x: x[1])\n",
      "\n",
      "Hmin, Hmax, Hmean = statHRDD.min(), statHRDD.max(), statHRDD.mean()\n",
      "Jmin, Jmax, Jmean = statJRDD.min(), statJRDD.max(), statJRDD.mean()\n",
      "\n",
      "print \"\\t\\tMin\\tMax\\tMean\"\n",
      "print \"Hamming:\\t{:.2f}\\t{:.2f}\\t{:.2f}\".format(Hmin, Hmax, Hmean )\n",
      "print \"Jaccard:\\t{:.2f}\\t{:.2f}\\t{:.2f}\".format( Jmin, Jmax, Jmean )"
     ],
     "language": "python",
     "metadata": {},
     "outputs": [],
     "prompt_number": null
    },
    {
     "cell_type": "code",
     "collapsed": false,
     "input": [
      "assert (Hmin.round(2), Hmax.round(2), Hmean.round(2)) == (0.00,6.00,3.52), 'valores incorretos'\n",
      "print \"OK\"\n",
      "assert (Jmin.round(2), Jmax.round(2), Jmean.round(2)) == (0.33,2.67,1.14), 'valores incorretos'\n",
      "print \"OK\""
     ],
     "language": "python",
     "metadata": {},
     "outputs": [],
     "prompt_number": null
    }
   ],
   "metadata": {}
  }
 ]
}
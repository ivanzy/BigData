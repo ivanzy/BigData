{
 "cells": [
  {
   "cell_type": "code",
   "execution_count": 1,
   "metadata": {},
   "outputs": [],
   "source": [
    "import os.path\n",
    "baseDir = os.path.join('Data')\n",
    "inputPath = os.path.join('projeto', 'expCorretos.txt')\n",
    "fileName = os.path.join(baseDir, inputPath)\n",
    "#abrir o arquivo\n",
    "if os.path.isfile(fileName):\n",
    "    rawData = (sc\n",
    "               .textFile(fileName, 50))  \n"
   ]
  },
  {
   "cell_type": "code",
   "execution_count": 2,
   "metadata": {},
   "outputs": [
    {
     "name": "stdout",
     "output_type": "stream",
     "text": [
      "[[u'poste', u'1', u'dia', u'0.38485343993385845', u'1512616176428'], [u'poste', u'92233', u'dia', u'0.14662803797791926', u'1512616176442']]\n"
     ]
    }
   ],
   "source": [
    "#O arquivo é o log de uma aplicação sink que faz o log de um broker mqtt\n",
    "#então é necessário realizar algumas manipulaçoes de pre-processamento\n",
    "\n",
    "#função responsável por fazer o parse de cada mensagem dos sensores\n",
    "def parseMessage(msg):\n",
    "    msg = msg.split(\";\")\n",
    "    for i in range(0,len(msg)):\n",
    "        msg[i] = msg[i].split(\"=\")[1]\n",
    "    return msg\n",
    "#depois de fazer o parse das mensagens, iremos filtar só aquelas que nos interessam\n",
    "processedAllData = rawData.map(parseMessage).filter(lambda msg: msg[0]==u'poste')\n",
    "print processedAllData.take(2)"
   ]
  },
  {
   "cell_type": "code",
   "execution_count": 3,
   "metadata": {},
   "outputs": [
    {
     "name": "stdout",
     "output_type": "stream",
     "text": [
      "cached processedData\n",
      "[0.38485343993385845, 0.14662803797791926]\n",
      "[0.8884692653425237, 0.9028595972926372]\n"
     ]
    }
   ],
   "source": [
    "#cada mensagem tem muitos atributos, não precisamos de todos eles, iremos precisar\n",
    "#da informação de se é dia ou noite (filtraremos por ela) e só precisaremos do payload\n",
    "processedDataDia = processedAllData.filter(lambda x: x[2]==u'dia').map(lambda x: float(x[3]))\n",
    "processedDataNoite = processedAllData.filter(lambda x: x[2]=='noite').map(lambda x: float(x[3]))\n",
    "\n",
    "print processedDataDia.take(2)\n",
    "print processedDataNoite.take(2)"
   ]
  },
  {
   "cell_type": "code",
   "execution_count": 4,
   "metadata": {},
   "outputs": [
    {
     "name": "stdout",
     "output_type": "stream",
     "text": [
      "Mean Day: 0.208265\n",
      "Var day: 0.021953\n",
      "Lenght day: 12702735.000000\n",
      "Mean Night: 0.697567\n",
      "Var Night: 0.024837\n",
      "Lenght Night: 8696659.000000\n"
     ]
    }
   ],
   "source": [
    "#agora que temos os dados processados, vamos calcular a media e a variancia dessa bd\n",
    "\n",
    "#para o dia:\n",
    "mediaDia = processedDataDia.mean()\n",
    "varDia = processedDataDia.variance()\n",
    "lenghtDia = processedDataDia.count()\n",
    "print ('Mean Day: %f' %mediaDia)\n",
    "print ('Var day: %f' %varDia)\n",
    "print ('Lenght day: %f' %lenghtDia)\n",
    "\n",
    "#para a noite:\n",
    "mediaNoite = processedDataNoite .mean()\n",
    "varNoite  = processedDataNoite .variance()\n",
    "lenghtNoite  = processedDataNoite .count()\n",
    "print ('Mean Night: %f' %mediaNoite)\n",
    "print ('Var Night: %f' %varNoite)\n",
    "print ('Lenght Night: %f' %lenghtNoite)\n"
   ]
  },
  {
   "cell_type": "code",
   "execution_count": 11,
   "metadata": {},
   "outputs": [
    {
     "data": {
      "image/png": "[encoded data removed]",
      "text/plain": [
       "<matplotlib.figure.Figure at 0x7f59438dd2d0>"
      ]
     },
     "metadata": {},
     "output_type": "display_data"
    }
   ],
   "source": [
    "import plotly.plotly as py\n",
    "import matplotlib.pyplot as plt\n",
    "import numpy as np\n",
    "\n",
    "dataDia = processedDataDia.take(5000000)\n",
    "plt.hist(dataDia)\n",
    "plt.title(\"Histogram of Light Intensity During Day Time\")\n",
    "plt.xlabel(\"Light\")\n",
    "plt.ylabel(\"Frequency\")\n",
    "fig1 = plt.gcf()\n",
    "pass\n"
   ]
  },
  {
   "cell_type": "code",
   "execution_count": 8,
   "metadata": {},
   "outputs": [
    {
     "data": {
      "image/png": "[encoded data removed]",
      "text/plain": [
       "<matplotlib.figure.Figure at 0x7fac8e08f3d0>"
      ]
     },
     "metadata": {},
     "output_type": "display_data"
    }
   ],
   "source": [
    "dataNoite = processedDataNoite.take(5000000)\n",
    "plt.hist(dataNoite)\n",
    "plt.title(\"Histogram of Light Intensity During Night Time\")\n",
    "plt.xlabel(\"Light\")\n",
    "plt.ylabel(\"Frequency\")\n",
    "fig2 = plt.gcf()\n",
    "pass"
   ]
  },
  {
   "cell_type": "code",
   "execution_count": 45,
   "metadata": {},
   "outputs": [
    {
     "name": "stdout",
     "output_type": "stream",
     "text": [
      "[(0.007116127474472015, 0.0)]\n",
      "[(0.7785136755656221, 0.0)]\n"
     ]
    }
   ],
   "source": [
    "#Agora faremos um processo analogo ao feito até aqui para o conjunto de dados da Cross validation\n",
    "# ele será usado para ajustar o valor de epsilon, que será nosso threshold para detectar anomalias\n",
    "baseDir = os.path.join('Data')\n",
    "inputPath = os.path.join('projeto','crossValidation.txt')\n",
    "fileName = os.path.join(baseDir, inputPath)\n",
    "#abrir o arquivo\n",
    "if os.path.isfile(fileName):\n",
    "    rawCrossData = (sc\n",
    "               .textFile(fileName, 10))\n",
    "\n",
    "processedCrossData = rawCrossData.map(parseMessage).filter(lambda msg: msg[0]==u'poste')\n",
    "crossDataDia = processedCrossData.filter(lambda x: x[2]==u'dia').map(lambda x: (float(x[3]), float(x[4])))\n",
    "crossDataNoite = processedCrossData.filter(lambda x: x[2]==u'noite').map(lambda x: (float(x[3]), float(x[4])))\n",
    "crossDataDia.cache()\n",
    "crossDataNoite.cache()\n",
    "\n",
    "print crossDataDia.take(1)\n",
    "print crossDataNoite.take(1)"
   ]
  },
  {
   "cell_type": "code",
   "execution_count": 58,
   "metadata": {},
   "outputs": [],
   "source": [
    "#Agora vamos fazer duas funções, a primeira calcula a gaussiana dado um x\n",
    "#a segunda detecta se um dado elemento é uma anomalia ou não\n",
    "def gaussian(x, mu, sig):\n",
    "    return np.exp(-np.power(x - mu, 2.) / (2 * np.power(sig, 2.)))\n",
    "\n",
    "\n",
    "#anomalia = 1 normal = 0\n",
    "def detectClassDay( x, epsilon):\n",
    "    test = gaussian(x, mediaDia, varDia)\n",
    "    if(test > epsilon):\n",
    "        return 0.0\n",
    "    else:\n",
    "        return 1.0\n",
    "    \n",
    "def detectClassNoite( x, epsilon):\n",
    "    test = gaussian(x, mediaNoite, varNoite)\n",
    "    if(test > epsilon):\n",
    "        return 0.0\n",
    "    else:\n",
    "        return 1.0\n",
    "    \n"
   ]
  },
  {
   "cell_type": "code",
   "execution_count": 40,
   "metadata": {},
   "outputs": [],
   "source": [
    "#Agora vamos fazer o processo de cross validation para definir um epsilon ideal para\n",
    "#nosso conjunto de dados, para isso utilizaremos do f1 (Precision and recall)\n",
    "\n",
    "def testaPrecision(pred, classe):\n",
    "    if pred==classe:\n",
    "        return 1.0\n",
    "    else:\n",
    "        return 0.0\n",
    "    \n",
    "def testaRecall(pred, classe):\n",
    "    if pred==1.0 and classe==1.0:\n",
    "        return 1.0\n",
    "    else:\n",
    "        return 0.0"
   ]
  },
  {
   "cell_type": "code",
   "execution_count": 68,
   "metadata": {},
   "outputs": [
    {
     "name": "stdout",
     "output_type": "stream",
     "text": [
      "DIA:\n",
      "precision\n",
      "0.991182814875\n",
      "recall\n",
      "1.0\n",
      "f1\n",
      "0.497785942843\n",
      "----------------------------------------\n",
      "NOITE:\n",
      "precision\n",
      "0.99204846962\n",
      "recall\n",
      "0.836030093785\n",
      "f1\n",
      "0.453690772212\n",
      "----------------------------------------\n",
      "Para epsilon de valor:\n",
      "1.0527717316e-70\n",
      "melhor epsilon: 0.000000\n",
      "melhor f1 dia: 0.497786\n",
      "melhor f1 noite: 0.453691\n",
      "----------------------------------------\n",
      "DIA:\n",
      "precision\n",
      "0.981357162875\n",
      "recall\n",
      "1.0\n",
      "f1\n",
      "0.495295437523\n",
      "----------------------------------------\n",
      "NOITE:\n",
      "precision\n",
      "0.988376466115\n",
      "recall\n",
      "1.0\n",
      "f1\n",
      "0.497077129487\n",
      "----------------------------------------\n",
      "Para epsilon de valor:\n",
      "1.0527717316e-50\n",
      "melhor epsilon: 0.000000\n",
      "melhor f1 dia: 0.497786\n",
      "melhor f1 noite: 0.497077\n",
      "----------------------------------------\n",
      "DIA:\n",
      "precision\n",
      "0.954852530296\n",
      "recall\n",
      "1.0\n",
      "f1\n",
      "0.488452461502\n",
      "----------------------------------------\n",
      "NOITE:\n",
      "precision\n",
      "0.933199292463\n",
      "recall\n",
      "1.0\n",
      "f1\n",
      "0.48272275709\n",
      "----------------------------------------\n",
      "Para epsilon de valor:\n",
      "1.0527717316e-30\n",
      "melhor epsilon: 0.000000\n",
      "melhor f1 dia: 0.497786\n",
      "melhor f1 noite: 0.497077\n",
      "----------------------------------------\n",
      "DIA:\n",
      "precision\n",
      "0.922205803674\n",
      "recall\n",
      "1.0\n",
      "f1\n",
      "0.479764342565\n",
      "----------------------------------------\n",
      "NOITE:\n",
      "precision\n",
      "0.875420513626\n",
      "recall\n",
      "1.0\n",
      "f1\n",
      "0.466786252611\n",
      "----------------------------------------\n",
      "Para epsilon de valor:\n",
      "1.0527717316e-20\n",
      "melhor epsilon: 0.000000\n",
      "melhor f1 dia: 0.497786\n",
      "melhor f1 noite: 0.497077\n",
      "----------------------------------------\n"
     ]
    }
   ],
   "source": [
    "melhorF1Dia=0\n",
    "melhorF1Noite=0\n",
    "melhorEpsilonDia=0\n",
    "melhorEpsilonNoite=0\n",
    "\n",
    "epsilons = (1.0527717316e-90,1.0527717316e-80,1.0527717316e-70,1.0527717316e-50,1.0527717316e-30, 1.0527717316e-20)\n",
    "for epsilon in epsilons:\n",
    "    classCrossDataDia = crossDataDia.map(lambda (pred,classe): (detectClassDay( pred,epsilon ),classe))                                    \n",
    "    classCrossDataNoite = crossDataNoite.map(lambda (pred,classe): (detectClassNoite(pred,epsilon ),classe))\n",
    "    \n",
    "    \n",
    "    precisionDia = classCrossDataDia.map(lambda (p,c): testaPrecision(p,c)).reduce(lambda x,y: x+y)\n",
    "    precisionDia = precisionDia/qntDia\n",
    "    recall = classCrossDataDia.map(lambda (p,c): testaRecall(p,c)).reduce(lambda x,y: x+y)\n",
    "    recallDia = recall/recallCountDia\n",
    "    fDia= (precisionDia*recallDia)/(precisionDia+recallDia)\n",
    "    \n",
    "    precisionNoite = classCrossDataNoite.map(lambda (p,c): testaPrecision(p,c)).reduce(lambda x,y: x+y)\n",
    "    precisionNoite = precisionNoite/qntNoite\n",
    "    recall = classCrossDataNoite.map(lambda (p,c): testaRecall(p,c)).reduce(lambda x,y: x+y)\n",
    "    recallNoite = recall/recallCountNoite\n",
    "    fNoite= (precisionNoite*recallNoite)/(precisionNoite+recallNoite)\n",
    "    \n",
    "    print \"DIA:\"\n",
    "    print \"precision\"\n",
    "    print precisionDia\n",
    "    print \"recall\"\n",
    "    print recallDia\n",
    "    print \"f1\"\n",
    "    print fDia\n",
    "    print ('-'*40)\n",
    "    print \"NOITE:\"\n",
    "    print \"precision\"\n",
    "    print precisionNoite\n",
    "    print \"recall\"\n",
    "    print recallNoite\n",
    "    print \"f1\"\n",
    "    print fNoite\n",
    "    print ('-'*40)\n",
    "    \n",
    "    if fDia > melhorF1Dia:\n",
    "        melhorF1Dia=fDia\n",
    "        melhorEpsilonDia=epsilon\n",
    "    if fNoite > melhorF1Noite:\n",
    "        melhorF1Noite=fNoite\n",
    "        melhorEpsilonNoite=epsilon\n",
    "        \n",
    "print ('*'*50)\n",
    "print ('Melhor epsilon DIA:')\n",
    "print (melhorEpsilonDia)\n",
    "print ('melhor f1 dia: %f' %melhorF1Dia)\n",
    "print ('-'*50)\n",
    "print ('melhor epsilon NOITE:' )\n",
    "print (melhorEpsilonNoite)\n",
    "print ('melhor f1 noite: %f' %melhorF1Noite)"
   ]
  },
  {
   "cell_type": "code",
   "execution_count": 69,
   "metadata": {},
   "outputs": [
    {
     "name": "stdout",
     "output_type": "stream",
     "text": [
      "[(0.20564404834358851, 0.0)]\n",
      "[(0.7702182139213366, 0.0)]\n",
      "DIA:\n",
      "precision\n",
      "0.979314994926\n",
      "recall\n",
      "0.321572372496\n",
      "f1\n",
      "0.242081408603\n",
      "----------------------------------------\n",
      "NOITE:\n",
      "precision\n",
      "0.996178525181\n",
      "recall\n",
      "0.999896544589\n",
      "f1\n",
      "0.499017036086\n",
      "----------------------------------------\n"
     ]
    }
   ],
   "source": [
    "\n",
    "melhorEpsilon = 1.0527717316e-75 \n",
    "#o processamento da célula acima demora muito e não quero reprocessa-la \n",
    "#toda vez que reinicio o notebook\n",
    "\n",
    "#finalmente o teste final\n",
    "baseDir = os.path.join('Data')\n",
    "inputPath = os.path.join('projeto','Test.txt')\n",
    "fileName = os.path.join(baseDir, inputPath)\n",
    "#abrir o arquivo\n",
    "if os.path.isfile(fileName):\n",
    "    rawTestData = (sc.textFile(fileName, 10))\n",
    "\n",
    "processedTestData = rawTestData.map(parseMessage).filter(lambda msg: msg[0]==u'poste')\n",
    "testDataDia = processedTestData.filter(lambda x: x[2]==u'dia').map(lambda x: (float(x[3]), float(x[4])))\n",
    "testDataNoite = processedTestData.filter(lambda x: x[2]==u'noite').map(lambda x: (float(x[3]), float(x[4])))\n",
    "\n",
    "print testDataDia.take(1)\n",
    "print testDataNoite.take(1)\n",
    "\n",
    "classTestDataDia = testDataDia.map(lambda (pred,classe): (detectClassDay(pred,melhorEpsilon ),classe))                                    \n",
    "classTestDataNoite = testDataNoite.map(lambda (pred,classe): (detectClassNoite( pred,melhorEpsilon),classe)) \n",
    "\n",
    "precisionDia = classTestDataDia.map(lambda (p,c): testaPrecision(p,c)).reduce(lambda x,y: x+y)\n",
    "precisionCount = classTestDataDia.count()\n",
    "precisionDia = precisionDia/precisionCount\n",
    "recall = classTestDataDia.map(lambda (p,c): testaRecall(p,c)).reduce(lambda x,y: x+y)\n",
    "recallCount = classTestDataDia.map(lambda (p,classe): classe).reduce(lambda x,y:x+y)\n",
    "recallDia = recall/recallCount\n",
    "fDia= (precisionDia*recallDia)/(precisionDia+recallDia)\n",
    "\n",
    "precisionNoite = classTestDataNoite.map(lambda (p,c): testaPrecision(p,c)).reduce(lambda x,y: x+y)\n",
    "precisionCount = classTestDataNoite.count()\n",
    "precisionNoite = precisionNoite/precisionCount\n",
    "recall = classTestDataNoite.map(lambda (p,c): testaRecall(p,c)).reduce(lambda x,y: x+y)\n",
    "recallCount = classTestDataNoite.map(lambda (p,classe): classe).reduce(lambda x,y:x+y)\n",
    "recallNoite = recall/recallCount\n",
    "fNoite= (precisionNoite*recallNoite)/(precisionNoite+recallNoite)\n",
    "\n",
    "print \"DIA:\"\n",
    "print \"precision\"\n",
    "print precisionDia\n",
    "print \"recall\"\n",
    "print recallDia\n",
    "print \"f1\"\n",
    "print fDia\n",
    "print ('-'*40)\n",
    "print \"NOITE:\"\n",
    "print \"precision\"\n",
    "print precisionNoite\n",
    "print \"recall\"\n",
    "print recallNoite\n",
    "print \"f1\"\n",
    "print fNoite\n",
    "print ('-'*40)\n",
    "\n"
   ]
  },
  {
   "cell_type": "code",
   "execution_count": 72,
   "metadata": {},
   "outputs": [
    {
     "name": "stdout",
     "output_type": "stream",
     "text": [
      "[(0.5701274771195805, 1.0), (0.605856229258862, 1.0), (0.2708739377655436, 1.0), (0.2007643098612864, 1.0), (0.10473483340538864, 1.0), (0.32671023710626634, 1.0), (0.8067344805363831, 1.0), (0.21810144266387219, 1.0), (0.32706972896238445, 1.0), (0.13874155483578926, 1.0)]\n"
     ]
    },
    {
     "data": {
      "image/png": "[encoded data removed]",
      "text/plain": [
       "<matplotlib.figure.Figure at 0x7f59321f3d50>"
      ]
     },
     "metadata": {},
     "output_type": "display_data"
    }
   ],
   "source": [
    "erros = testDataDia.filter(lambda (value,c): c==1.0 )\n",
    "print erros.take(10)\n",
    "erros = erros.map(lambda (value,c): value)\n",
    "erros = erros.take(100000)\n",
    "\n",
    "acertos =  testDataDia.filter(lambda (value,c): c==0.0 ).map(lambda (value,c): value)\n",
    "acertos = acertos.take(500000)\n",
    "plt.hist(acertos)\n",
    "plt.hist(erros)\n",
    "plt.title(\"Dia Histogram anomalies x regular data\")\n",
    "plt.xlabel(\"Light\")\n",
    "plt.ylabel(\"Frequency\")\n",
    "fig2 = plt.gcf()\n",
    "pass"
   ]
  },
  {
   "cell_type": "code",
   "execution_count": 73,
   "metadata": {},
   "outputs": [
    {
     "data": {
      "image/png": "[encoded data removed]",
      "text/plain": [
       "<matplotlib.figure.Figure at 0x7f59316d4150>"
      ]
     },
     "metadata": {},
     "output_type": "display_data"
    }
   ],
   "source": [
    "erros = testDataNoite.filter(lambda (value,c): c==1.0 ).map(lambda (value,c): value)\n",
    "erros = erros.take(100000)\n",
    "acertos =  testDataNoite.filter(lambda (value,c): c==0.0 ).map(lambda (value,c): value)\n",
    "acertos = acertos.take(500000)\n",
    "plt.hist(acertos)\n",
    "plt.hist(erros)\n",
    "plt.title(\"Noite Histogram anomalies x regular data\")\n",
    "plt.xlabel(\"Light\")\n",
    "plt.ylabel(\"Frequency\")\n",
    "fig2 = plt.gcf()\n",
    "pass"
   ]
  },
  {
   "cell_type": "code",
   "execution_count": 74,
   "metadata": {},
   "outputs": [
    {
     "data": {
      "image/png": "[encoded data removed]",
      "text/plain": [
       "<matplotlib.figure.Figure at 0x7f593120e150>"
      ]
     },
     "metadata": {},
     "output_type": "display_data"
    }
   ],
   "source": [
    "falsoPositivo = classTestDataDia.filter(lambda (p,c): p==1.0 and c==0.0).count()\n",
    "falsoNegativo = classTestDataDia.filter(lambda (p,c): p==0.0 and c==1.0).count()\n",
    "y = [falsoPositivo, falsoNegativo]\n",
    "N = len(y)\n",
    "x = range(N)\n",
    "width = 1/1.5\n",
    "plt.bar(x, y, width, color=\"blue\")\n",
    "plt.title(\"DIA falso Positivo x Falso Negativo\")\n",
    "plt.xlabel(\"Light\")\n",
    "plt.ylabel(\"Frequency\")\n",
    "fig = plt.gcf()\n",
    "pass"
   ]
  },
  {
   "cell_type": "code",
   "execution_count": 76,
   "metadata": {},
   "outputs": [
    {
     "data": {
      "image/png": "[encoded data removed]",
      "text/plain": [
       "<matplotlib.figure.Figure at 0x7f592fb61350>"
      ]
     },
     "metadata": {},
     "output_type": "display_data"
    }
   ],
   "source": [
    "falsoPositivo = classTestDataNoite.filter(lambda (p,c): p==1.0 and c==0.0).count()\n",
    "falsoNegativo = classTestDataNoite.filter(lambda (p,c): p==0.0 and c==1.0).count()\n",
    "y = [falsoPositivo, falsoNegativo]\n",
    "N = len(y)\n",
    "x = range(N)\n",
    "width = 1/1.5\n",
    "plt.bar(x, y, width, color=\"blue\")\n",
    "plt.title(\"NOITE falso Positivo x Falso Negativo\")\n",
    "plt.xlabel(\"Light\")\n",
    "plt.ylabel(\"Frequency\")\n",
    "fig = plt.gcf()\n",
    "pass"
   ]
  },
  {
   "cell_type": "code",
   "execution_count": 78,
   "metadata": {},
   "outputs": [
    {
     "name": "stdout",
     "output_type": "stream",
     "text": [
      "1885854\n",
      "12459\n"
     ]
    }
   ],
   "source": [
    "triplaDia = testDataDia.map(lambda (pred,classe): (pred, detectClassDay(pred,melhorEpsilon ),classe))                                    \n",
    "negativoCorreto = triplaDia.filter(lambda (value,pred, classe): pred==0.0 and classe==0.0).map(lambda (value,pred,classe): value)\n",
    "positivoCorreto = triplaDia.filter(lambda (value,pred, classe): pred==1.0 and classe==1.0).map(lambda (value,pred, classe): value)\n",
    "print negativoCorreto.count()\n",
    "print positivoCorreto.count()"
   ]
  },
  {
   "cell_type": "code",
   "execution_count": 82,
   "metadata": {},
   "outputs": [
    {
     "data": {
      "image/png": "[encoded data removed]",
      "text/plain": [
       "<matplotlib.figure.Figure at 0x7f592e654e50>"
      ]
     },
     "metadata": {},
     "output_type": "display_data"
    }
   ],
   "source": [
    "#positivoCorreto = positivoCorreto.take(12459)\n",
    "plt.hist(positivoCorreto)\n",
    "plt.title(\"DIA Histogram Positivos Corretos\")\n",
    "plt.xlabel(\"Light\")\n",
    "plt.ylabel(\"Frequency\")\n",
    "plt.axis([0.0, 1.0,0,1750 ])\n",
    "\n",
    "fig2 = plt.gcf()\n",
    "pass\n"
   ]
  },
  {
   "cell_type": "code",
   "execution_count": 84,
   "metadata": {},
   "outputs": [
    {
     "data": {
      "image/png": "[encoded data removed]",
      "text/plain": [
       "<matplotlib.figure.Figure at 0x7f593b3058d0>"
      ]
     },
     "metadata": {},
     "output_type": "display_data"
    }
   ],
   "source": [
    "#negativoCorreto = negativoCorreto.take(1885854)\n",
    "plt.hist(negativoCorreto)\n",
    "plt.title(\"DIA Histogram Negativos Corretos\")\n",
    "plt.xlabel(\"Light\")\n",
    "plt.ylabel(\"Frequency\")\n",
    "plt.axis([0.0, 1.0,0,400000 ])\n",
    "\n",
    "fig2 = plt.gcf()\n",
    "pass\n"
   ]
  },
  {
   "cell_type": "code",
   "execution_count": 38,
   "metadata": {},
   "outputs": [
    {
     "name": "stdout",
     "output_type": "stream",
     "text": [
      "DIA:\n",
      "[(0.1272537648529523, 0.0), (0.21843860370189444, 0.0)]\n",
      "NOITE:\n",
      "[(0.38322918163857855, 0.0), (0.7966660232870342, 0.0)]\n"
     ]
    }
   ],
   "source": [
    "\n",
    "#A métrica F1 foi extremamente ruim, isso é devido a pouca variabilidade dos erros, da forma que eles foram gerados\n",
    "#boa parte dos erros tem pouca diferença de valores corretos, então foi gerado um novo conjunto de dados com \n",
    "#erros maiores\n",
    "baseDir = os.path.join('Data')\n",
    "inputPath = os.path.join('projeto','CrossValidationFinal.txt')\n",
    "fileName = os.path.join(baseDir, inputPath)\n",
    "#abrir o arquivo\n",
    "if os.path.isfile(fileName):\n",
    "    rawCrossData = (sc.textFile(fileName, 10))\n",
    "processedCrossData = rawCrossData.map(parseMessage).filter(lambda msg: msg[0]==u'poste')\n",
    "crossDataDia = processedCrossData.filter(lambda x: x[2]==u'dia').map(lambda x: (float(x[3]), float(x[4])))\n",
    "crossDataNoite = processedCrossData.filter(lambda x: x[2]==u'noite').map(lambda x: (float(x[3]), float(x[4])))\n",
    "\n",
    "print \"DIA:\"\n",
    "print crossDataDia.take(2)\n",
    "print \"NOITE:\"\n",
    "print crossDataNoite.take(2)\n",
    "\n"
   ]
  },
  {
   "cell_type": "code",
   "execution_count": 56,
   "metadata": {},
   "outputs": [
    {
     "name": "stdout",
     "output_type": "stream",
     "text": [
      "qnt de valores dia 471012.000000 \n",
      "qnt erros dia: 9285.000000\n",
      "qnt de valores noite 483932.000000 \n",
      "qnt erros noite: 9703.000000\n"
     ]
    }
   ],
   "source": [
    "#vamos descobrir algumas infos importantes da nossa base de cross validation\n",
    "recallCountDia = crossDataDia.map(lambda (p,classe): classe).reduce(lambda x,y:x+y)\n",
    "recallCountNoite = crossDataNoite.map(lambda (p,classe): classe).reduce(lambda x,y:x+y)\n",
    "qntDia = crossDataDia.count()\n",
    "qntNoite = crossDataNoite.count()\n",
    "print ('qnt de valores dia %f '%qntDia)\n",
    "print ('qnt erros dia: %f' %recallCountDia)\n",
    "print ('qnt de valores noite %f '%qntNoite)\n",
    "print ('qnt erros noite: %f' %recallCountNoite)"
   ]
  },
  {
   "cell_type": "code",
   "execution_count": 64,
   "metadata": {},
   "outputs": [
    {
     "name": "stdout",
     "output_type": "stream",
     "text": [
      "DIA:\n",
      "precision\n",
      "0.996946999227\n",
      "recall\n",
      "1.0\n",
      "f1\n",
      "0.499235582924\n",
      "----------------------------------------\n",
      "NOITE:\n",
      "precision\n",
      "0.989424133969\n",
      "recall\n",
      "0.541378954962\n",
      "f1\n",
      "0.349916594457\n",
      "----------------------------------------\n",
      "Para epsilon de valor:\n",
      "1.0527717316e-100\n",
      "melhor epsilon: 0.000000\n",
      "melhor f1 dia: 0.499236\n",
      "melhor f1 noite: 0.349917\n",
      "----------------------------------------\n",
      "DIA:\n",
      "precision\n",
      "0.995658284715\n",
      "recall\n",
      "1.0\n",
      "f1\n",
      "0.498912209741\n",
      "----------------------------------------\n",
      "NOITE:\n",
      "precision\n",
      "0.990620583057\n",
      "recall\n",
      "0.635061321241\n",
      "f1\n",
      "0.386979036096\n",
      "----------------------------------------\n",
      "Para epsilon de valor:\n",
      "1.0527717316e-90\n",
      "melhor epsilon: 0.000000\n",
      "melhor f1 dia: 0.499236\n",
      "melhor f1 noite: 0.386979\n",
      "----------------------------------------\n",
      "DIA:\n",
      "precision\n",
      "0.993838798162\n",
      "recall\n",
      "1.0\n",
      "f1\n",
      "0.498454939827\n",
      "----------------------------------------\n",
      "NOITE:\n",
      "precision\n",
      "0.991571129828\n",
      "recall\n",
      "0.733278367515\n",
      "f1\n",
      "0.421542668201\n",
      "----------------------------------------\n",
      "Para epsilon de valor:\n",
      "1.0527717316e-80\n",
      "melhor epsilon: 0.000000\n",
      "melhor f1 dia: 0.499236\n",
      "melhor f1 noite: 0.421543\n",
      "----------------------------------------\n",
      "DIA:\n",
      "precision\n",
      "0.991182814875\n",
      "recall\n",
      "1.0\n",
      "f1\n",
      "0.497785942843\n",
      "----------------------------------------\n",
      "NOITE:\n",
      "precision\n",
      "0.99204846962\n",
      "recall\n",
      "0.836030093785\n",
      "f1\n",
      "0.453690772212\n",
      "----------------------------------------\n",
      "Para epsilon de valor:\n",
      "1.0527717316e-70\n",
      "melhor epsilon: 0.000000\n",
      "melhor f1 dia: 0.499236\n",
      "melhor f1 noite: 0.453691\n",
      "----------------------------------------\n",
      "DIA:\n",
      "precision\n",
      "0.981357162875\n",
      "recall\n",
      "1.0\n",
      "f1\n",
      "0.495295437523\n",
      "----------------------------------------\n",
      "NOITE:\n",
      "precision\n",
      "0.988376466115\n",
      "recall\n",
      "1.0\n",
      "f1\n",
      "0.497077129487\n",
      "----------------------------------------\n",
      "Para epsilon de valor:\n",
      "1.0527717316e-50\n",
      "melhor epsilon: 0.000000\n",
      "melhor f1 dia: 0.499236\n",
      "melhor f1 noite: 0.497077\n",
      "----------------------------------------\n",
      "**************************************************\n",
      "Melhor epsilon DIA:\n",
      "1.0527717316e-100\n",
      "melhor f1 dia: 0.499236\n",
      "--------------------------------------------------\n",
      "melhor epsilon NOITE:\n",
      "1.0527717316e-50\n",
      "melhor f1 noite: 0.497077\n"
     ]
    }
   ],
   "source": [
    "melhorF1Dia=0\n",
    "melhorF1Noite=0\n",
    "melhorEpsilonDia=0\n",
    "melhorEpsilonNoite=0\n",
    "\n",
    "epsilons = (1.0527717316e-100,1.0527717316e-90,1.0527717316e-80,1.0527717316e-70, 1.0527717316e-50)\n",
    "for epsilon in epsilons:\n",
    "    classCrossDataDia = crossDataDia.map(lambda (pred,classe): (detectClassDay( pred,epsilon ),classe))                                    \n",
    "    classCrossDataNoite = crossDataNoite.map(lambda (pred,classe): (detectClassNoite(pred,epsilon ),classe))\n",
    "    \n",
    "    precisionDia = classCrossDataDia.map(lambda (p,c): testaPrecision(p,c)).reduce(lambda x,y: x+y)\n",
    "    precisionDia = precisionDia/qntDia\n",
    "    recall = classCrossDataDia.map(lambda (p,c): testaRecall(p,c)).reduce(lambda x,y: x+y)\n",
    "    recallDia = recall/recallCountDia\n",
    "    fDia= (precisionDia*recallDia)/(precisionDia+recallDia)\n",
    "    \n",
    "    precisionNoite = classCrossDataNoite.map(lambda (p,c): testaPrecision(p,c)).reduce(lambda x,y: x+y)\n",
    "    precisionNoite = precisionNoite/qntNoite\n",
    "    recall = classCrossDataNoite.map(lambda (p,c): testaRecall(p,c)).reduce(lambda x,y: x+y)\n",
    "    recallNoite = recall/recallCountNoite\n",
    "    fNoite= (precisionNoite*recallNoite)/(precisionNoite+recallNoite)\n",
    "    \n",
    "    print \"DIA:\"\n",
    "    print \"precision\"\n",
    "    print precisionDia\n",
    "    print \"recall\"\n",
    "    print recallDia\n",
    "    print \"f1\"\n",
    "    print fDia\n",
    "    print ('-'*40)\n",
    "    print \"NOITE:\"\n",
    "    print \"precision\"\n",
    "    print precisionNoite\n",
    "    print \"recall\"\n",
    "    print recallNoite\n",
    "    print \"f1\"\n",
    "    print fNoite\n",
    "    print ('-'*40)\n",
    "    \n",
    "    if fDia > melhorF1Dia:\n",
    "        melhorF1Dia=fDia\n",
    "        melhorEpsilonDia=epsilon\n",
    "    if fNoite > melhorF1Noite:\n",
    "        melhorF1Noite=fNoite\n",
    "        melhorEpsilonNoite=epsilon\n",
    "        \n",
    "    print ('Para epsilon de valor:')\n",
    "    print(epsilon)\n",
    "    print ('melhor epsilon: %f' %melhorEpsilonNoite)\n",
    "    print ('melhor f1 dia: %f' %melhorF1Dia)\n",
    "    print ('melhor f1 noite: %f' %melhorF1Noite)\n",
    "    print ('-'*40)\n",
    "    \n",
    "print ('*'*50)\n",
    "print ('Melhor epsilon DIA:')\n",
    "print (melhorEpsilonDia)\n",
    "print ('melhor f1 dia: %f' %melhorF1Dia)\n",
    "print ('-'*50)\n",
    "print ('melhor epsilon NOITE:' )\n",
    "print (melhorEpsilonNoite)\n",
    "print ('melhor f1 noite: %f' %melhorF1Noite)\n"
   ]
  },
  {
   "cell_type": "code",
   "execution_count": 88,
   "metadata": {},
   "outputs": [
    {
     "name": "stdout",
     "output_type": "stream",
     "text": [
      "[(0.2668599995472038, 0.0)]\n",
      "[(0.7569819801818207, 0.0)]\n",
      "DIA:\n",
      "precision\n",
      "0.997013826789\n",
      "recall\n",
      "1.0\n",
      "f1\n",
      "0.499252340377\n",
      "----------------------------------------\n",
      "NOITE:\n",
      "precision\n",
      "0.989770493025\n",
      "recall\n",
      "0.542797494781\n",
      "f1\n",
      "0.350552111421\n",
      "----------------------------------------\n"
     ]
    }
   ],
   "source": [
    "#novamente, só para não precisar rodar a celula acima toda hora\n",
    "melhorEpsilonDia = 1.0527717316e-100\n",
    "melhorEpsilonNoite= 1.0527717316e-100\n",
    "\n",
    "#finalmente o teste final\n",
    "baseDir = os.path.join('Data')\n",
    "inputPath = os.path.join('projeto','TestFinal.txt')\n",
    "fileName = os.path.join(baseDir, inputPath)\n",
    "#abrir o arquivo\n",
    "if os.path.isfile(fileName):\n",
    "    rawTestData = (sc.textFile(fileName, 10))\n",
    "\n",
    "processedTestData = rawTestData.map(parseMessage).filter(lambda msg: msg[0]==u'poste')\n",
    "testDataDia = processedTestData.filter(lambda x: x[2]==u'dia').map(lambda x: (float(x[3]), float(x[4])))\n",
    "testDataNoite = processedTestData.filter(lambda x: x[2]==u'noite').map(lambda x: (float(x[3]), float(x[4] )))\n",
    "\n",
    "print testDataDia.take(1)\n",
    "print testDataNoite.take(1)\n",
    "\n",
    "classTestDataDia = testDataDia.map(lambda (pred,classe): (detectClassDay(pred,melhorEpsilonDia ),classe))                                    \n",
    "classTestDataNoite = testDataNoite.map(lambda (pred,classe): (detectClassNoite( pred,melhorEpsilonNoite ),classe)) \n",
    "\n",
    "precisionDia = classTestDataDia.map(lambda (p,c): testaPrecision(p,c)).reduce(lambda x,y: x+y)\n",
    "precisionCount = classTestDataDia.count()\n",
    "precisionDia = precisionDia/precisionCount\n",
    "recall = classTestDataDia.map(lambda (p,c): testaRecall(p,c)).reduce(lambda x,y: x+y)\n",
    "recallCount = classTestDataDia.map(lambda (p,classe): classe).reduce(lambda x,y:x+y)\n",
    "recallDia = recall/recallCount\n",
    "fDia= (precisionDia*recallDia)/(precisionDia+recallDia)\n",
    "\n",
    "precisionNoite = classTestDataNoite.map(lambda (p,c): testaPrecision(p,c)).reduce(lambda x,y: x+y)\n",
    "precisionCount = classTestDataNoite.count()\n",
    "precisionNoite = precisionNoite/precisionCount\n",
    "recall = classTestDataNoite.map(lambda (p,c): testaRecall(p,c)).reduce(lambda x,y: x+y)\n",
    "recallCount = classTestDataNoite.map(lambda (p,classe): classe).reduce(lambda x,y:x+y)\n",
    "recallNoite = recall/recallCount\n",
    "fNoite= (precisionNoite*recallNoite)/(precisionNoite+recallNoite)\n",
    "\n",
    "print \"DIA:\"\n",
    "print \"precision\"\n",
    "print precisionDia\n",
    "print \"recall\"\n",
    "print recallDia\n",
    "print \"f1\"\n",
    "print fDia\n",
    "print ('-'*40)\n",
    "print \"NOITE:\"\n",
    "print \"precision\"\n",
    "print precisionNoite\n",
    "print \"recall\"\n",
    "print recallNoite\n",
    "print \"f1\"\n",
    "print fNoite\n",
    "print ('-'*40)\n"
   ]
  },
  {
   "cell_type": "code",
   "execution_count": 89,
   "metadata": {},
   "outputs": [
    {
     "name": "stdout",
     "output_type": "stream",
     "text": [
      "[(0.9002547800540924, 1.0), (0.8902557015419006, 1.0), (0.9180454790592194, 1.0), (0.8363217175006866, 1.0), (0.7140890717506408, 1.0), (0.7127061069011688, 1.0), (0.850052285194397, 1.0), (0.832487142086029, 1.0), (0.91936696767807, 1.0), (0.9648723244667053, 1.0)]\n"
     ]
    },
    {
     "data": {
      "image/png": "[encoded data removed]",
      "text/plain": [
       "<matplotlib.figure.Figure at 0x7f5946e38750>"
      ]
     },
     "metadata": {},
     "output_type": "display_data"
    }
   ],
   "source": [
    "erros = testDataDia.filter(lambda (value,c): c==1.0 )\n",
    "print erros.take(10)\n",
    "erros = erros.map(lambda (value,c): value)\n",
    "erros = erros.take(100000)\n",
    "\n",
    "acertos =  testDataDia.filter(lambda (value,c): c==0.0 ).map(lambda (value,c): value)\n",
    "acertos = acertos.take(500000)\n",
    "plt.hist(acertos)\n",
    "plt.hist(erros)\n",
    "plt.title(\"Dia Histogram anomalies x regular data\")\n",
    "plt.xlabel(\"Light\")\n",
    "plt.ylabel(\"Frequency\")\n",
    "fig2 = plt.gcf()\n",
    "pass"
   ]
  },
  {
   "cell_type": "code",
   "execution_count": 90,
   "metadata": {},
   "outputs": [
    {
     "data": {
      "image/png": "[encoded data removed]",
      "text/plain": [
       "<matplotlib.figure.Figure at 0x7f59456accd0>"
      ]
     },
     "metadata": {},
     "output_type": "display_data"
    }
   ],
   "source": [
    "erros = testDataNoite.filter(lambda (value,c): c==1.0 ).map(lambda (value,c): value)\n",
    "erros = erros.take(100000)\n",
    "acertos =  testDataNoite.filter(lambda (value,c): c==0.0 ).map(lambda (value,c): value)\n",
    "acertos = acertos.take(500000)\n",
    "plt.hist(acertos)\n",
    "plt.hist(erros)\n",
    "plt.title(\"Noite Histogram anomalies x regular data\")\n",
    "plt.xlabel(\"Light\")\n",
    "plt.ylabel(\"Frequency\")\n",
    "fig2 = plt.gcf()\n",
    "pass"
   ]
  },
  {
   "cell_type": "code",
   "execution_count": 91,
   "metadata": {},
   "outputs": [
    {
     "data": {
      "image/png": "[encoded data removed]",
      "text/plain": [
       "<matplotlib.figure.Figure at 0x7f5946d0f210>"
      ]
     },
     "metadata": {},
     "output_type": "display_data"
    }
   ],
   "source": [
    "falsoPositivo = classTestDataDia.filter(lambda (p,c): p==1.0 and c==0.0).count()\n",
    "falsoNegativo = classTestDataDia.filter(lambda (p,c): p==0.0 and c==1.0).count()\n",
    "y = [falsoPositivo, falsoNegativo]\n",
    "N = len(y)\n",
    "x = range(N)\n",
    "width = 1/1.5\n",
    "plt.bar(x, y, width, color=\"blue\")\n",
    "plt.title(\"DIA falso Positivo x Falso Negativo\")\n",
    "plt.xlabel(\"Light\")\n",
    "plt.ylabel(\"Frequency\")\n",
    "fig = plt.gcf()\n",
    "pass"
   ]
  },
  {
   "cell_type": "code",
   "execution_count": 92,
   "metadata": {},
   "outputs": [
    {
     "data": {
      "image/png": "[encoded data removed]",
      "text/plain": [
       "<matplotlib.figure.Figure at 0x7f593380cd50>"
      ]
     },
     "metadata": {},
     "output_type": "display_data"
    }
   ],
   "source": [
    "falsoPositivo = classTestDataNoite.filter(lambda (p,c): p==1.0 and c==0.0).count()\n",
    "falsoNegativo = classTestDataNoite.filter(lambda (p,c): p==0.0 and c==1.0).count()\n",
    "y = [falsoPositivo, falsoNegativo]\n",
    "N = len(y)\n",
    "x = range(N)\n",
    "width = 1/1.5\n",
    "plt.bar(x, y, width, color=\"blue\")\n",
    "plt.title(\"NOITE falso Positivo x Falso Negativo\")\n",
    "plt.xlabel(\"Light\")\n",
    "plt.ylabel(\"Frequency\")\n",
    "fig = plt.gcf()\n",
    "pass"
   ]
  },
  {
   "cell_type": "code",
   "execution_count": null,
   "metadata": {},
   "outputs": [],
   "source": []
  }
 ],
 "metadata": {
  "kernelspec": {
   "display_name": "Python 2",
   "language": "python",
   "name": "python2"
  },
  "language_info": {
   "codemirror_mode": {
    "name": "ipython",
    "version": 2
   },
   "file_extension": ".py",
   "mimetype": "text/x-python",
   "name": "python",
   "nbconvert_exporter": "python",
   "pygments_lexer": "ipython2",
   "version": "2.7.12"
  }
 },
 "nbformat": 4,
 "nbformat_minor": 2
}

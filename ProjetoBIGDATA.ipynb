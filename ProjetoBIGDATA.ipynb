{
 "cells": [
  {
   "cell_type": "code",
   "execution_count": 2,
   "metadata": {},
   "outputs": [],
   "source": [
    "import os.path\n",
    "baseDir = os.path.join('Data')\n",
    "inputPath = os.path.join('projeto', 'expCorretos.txt')\n",
    "fileName = os.path.join(baseDir, inputPath)\n",
    "#abrir o arquivo\n",
    "if os.path.isfile(fileName):\n",
    "    rawData = (sc\n",
    "               .textFile(fileName, 50))  \n"
   ]
  },
  {
   "cell_type": "code",
   "execution_count": 3,
   "metadata": {},
   "outputs": [
    {
     "name": "stdout",
     "output_type": "stream",
     "text": [
      "cached processedAllData\n",
      "[[u'poste', u'1', u'dia', u'0.38485343993385845', u'1512616176428'], [u'poste', u'92233', u'dia', u'0.14662803797791926', u'1512616176442']]\n"
     ]
    }
   ],
   "source": [
    "from collections import namedtuple\n",
    "import re\n",
    "\n",
    "#O arquivo é o log de uma aplicação sink que faz o log de um broker mqtt\n",
    "#então é necessário realizar algumas manipulaçoes de pre-processamento\n",
    "\n",
    "#função responsável por fazer o parse de cada mensagem dos sensores\n",
    "def parseMessage(msg):\n",
    "    msg = msg.split(\";\")\n",
    "    for i in range(0,len(msg)):\n",
    "        msg[i] = msg[i].split(\"=\")[1]\n",
    "    return msg\n",
    "#depois de fazer o parse das mensagens, iremos filtar só aquelas que nos interessam\n",
    "processedAllData = rawData.map(parseMessage).filter(lambda msg: msg[0]==u'poste')\n",
    "processedAllData.cache()\n",
    "print \"cached processedAllData\"\n",
    "print processedAllData.take(2)"
   ]
  },
  {
   "cell_type": "code",
   "execution_count": 4,
   "metadata": {},
   "outputs": [
    {
     "name": "stdout",
     "output_type": "stream",
     "text": [
      "cached processedData\n",
      "[0.38485343993385845, 0.14662803797791926]\n",
      "[0.8884692653425237, 0.9028595972926372]\n"
     ]
    }
   ],
   "source": [
    "#cada mensagem tem muitos atributos, não precisamos de todos eles, iremos precisar\n",
    "#da informação de se é dia ou noite (filtraremos por ela) e só precisaremos do payload\n",
    "processedDataDia = processedAllData.filter(lambda x: x[2]==u'dia').map(lambda x: float(x[3]))\n",
    "processedDataNoite = processedAllData.filter(lambda x: x[2]=='noite').map(lambda x: float(x[3]))\n",
    "processedDataDia.cache()\n",
    "processedDataNoite.cache()\n",
    "print \"cached processedData\"\n",
    "print processedDataDia.take(2)\n",
    "print processedDataNoite.take(2)"
   ]
  },
  {
   "cell_type": "code",
   "execution_count": 5,
   "metadata": {},
   "outputs": [
    {
     "name": "stdout",
     "output_type": "stream",
     "text": [
      "Mean Day: 0.208265\n",
      "Var day: 0.021953\n",
      "Lenght day: 12702735.000000\n",
      "Mean Night: 0.697567\n",
      "Var Night: 0.024837\n",
      "Lenght Night: 8696659.000000\n"
     ]
    }
   ],
   "source": [
    "#agora que temos os dados processados, vamos calcular a media e a variancia dessa bd\n",
    "\n",
    "#para o dia:\n",
    "mediaDia = processedDataDia.mean()\n",
    "varDia = processedDataDia.variance()\n",
    "lenghtDia = processedDataDia.count()\n",
    "print ('Mean Day: %f' %mediaDia)\n",
    "print ('Var day: %f' %varDia)\n",
    "print ('Lenght day: %f' %lenghtDia)\n",
    "\n",
    "#para a noite:\n",
    "mediaNoite = processedDataNoite .mean()\n",
    "varNoite  = processedDataNoite .variance()\n",
    "lenghtNoite  = processedDataNoite .count()\n",
    "print ('Mean Night: %f' %mediaNoite)\n",
    "print ('Var Night: %f' %varNoite)\n",
    "print ('Lenght Night: %f' %lenghtNoite)\n"
   ]
  },
  {
   "cell_type": "code",
   "execution_count": 7,
   "metadata": {},
   "outputs": [
    {
     "data": {
      "image/png": "[encoded data removed]",
      "text/plain": [
       "<matplotlib.figure.Figure at 0x7fac81c49f10>"
      ]
     },
     "metadata": {},
     "output_type": "display_data"
    }
   ],
   "source": [
    "import plotly.plotly as py\n",
    "import matplotlib.pyplot as plt\n",
    "import numpy as np\n",
    "\n",
    "dataDia = processedDataDia.take(5000000)\n",
    "plt.hist(dataDia)\n",
    "plt.title(\"Histogram of Light Intensity During Day Time\")\n",
    "plt.xlabel(\"Light\")\n",
    "plt.ylabel(\"Frequency\")\n",
    "fig1 = plt.gcf()\n",
    "pass\n"
   ]
  },
  {
   "cell_type": "code",
   "execution_count": 8,
   "metadata": {},
   "outputs": [
    {
     "data": {
      "image/png": "[encoded data removed]",
      "text/plain": [
       "<matplotlib.figure.Figure at 0x7fac8e08f3d0>"
      ]
     },
     "metadata": {},
     "output_type": "display_data"
    }
   ],
   "source": [
    "dataNoite = processedDataNoite.take(5000000)\n",
    "plt.hist(dataNoite)\n",
    "plt.title(\"Histogram of Light Intensity During Night Time\")\n",
    "plt.xlabel(\"Light\")\n",
    "plt.ylabel(\"Frequency\")\n",
    "fig2 = plt.gcf()\n",
    "pass"
   ]
  },
  {
   "cell_type": "code",
   "execution_count": 45,
   "metadata": {},
   "outputs": [
    {
     "name": "stdout",
     "output_type": "stream",
     "text": [
      "[(0.007116127474472015, 0.0)]\n",
      "[(0.7785136755656221, 0.0)]\n"
     ]
    }
   ],
   "source": [
    "#Agora faremos um processo analogo ao feito até aqui para o conjunto de dados da Cross validation\n",
    "# ele será usado para ajustar o valor de epsilon, que será nosso threshold para detectar anomalias\n",
    "baseDir = os.path.join('Data')\n",
    "inputPath = os.path.join('projeto','crossValidation.txt')\n",
    "fileName = os.path.join(baseDir, inputPath)\n",
    "#abrir o arquivo\n",
    "if os.path.isfile(fileName):\n",
    "    rawCrossData = (sc\n",
    "               .textFile(fileName, 10))\n",
    "\n",
    "processedCrossData = rawCrossData.map(parseMessage).filter(lambda msg: msg[0]==u'poste')\n",
    "crossDataDia = processedCrossData.filter(lambda x: x[2]==u'dia').map(lambda x: (float(x[3]), float(x[4])))\n",
    "crossDataNoite = processedCrossData.filter(lambda x: x[2]==u'noite').map(lambda x: (float(x[3]), float(x[4])))\n",
    "crossDataDia.cache()\n",
    "crossDataNoite.cache()\n",
    "\n",
    "print crossDataDia.take(1)\n",
    "print crossDataNoite.take(1)"
   ]
  },
  {
   "cell_type": "code",
   "execution_count": 107,
   "metadata": {},
   "outputs": [],
   "source": [
    "#Agora vamos fazer duas funções, a primeira calcula a gaussiana dado um x\n",
    "#a segunda detecta se um dado elemento é uma anomalia ou não\n",
    "def gaussian(x, mu, sig):\n",
    "    return np.exp(-np.power(x - mu, 2.) / (2 * np.power(sig, 2.)))\n",
    "\n",
    "\n",
    "#anomalia = 1 normal = 0\n",
    "def detectClassDay( x, epsilon):\n",
    "    test = gaussian(x, mediaDia, varDia)\n",
    "    if(test > epsilon):\n",
    "        return 1.0\n",
    "    else:\n",
    "        return 0.0\n",
    "    \n",
    "def detectClassNoite( x, epsilon):\n",
    "    test = gaussian(x, mediaNoite, varNoite)\n",
    "    if(test > epsilon):\n",
    "        return 1.0\n",
    "    else:\n",
    "        return 0.0"
   ]
  },
  {
   "cell_type": "code",
   "execution_count": 108,
   "metadata": {},
   "outputs": [],
   "source": [
    "#Agora vamos fazer o processo de cross validation para definir um epsilon ideal para\n",
    "#nosso conjunto de dados, para isso utilizaremos do f1 (Precision and recall)\n",
    "\n",
    "def testaPrecision(pred, classe):\n",
    "    if pred==classe:\n",
    "        return 1.0\n",
    "    else:\n",
    "        return 0.0\n",
    "    \n",
    "def testaRecall(pred, classe):\n",
    "    if pred==1.0 and classe==1.0:\n",
    "        return 1.0\n",
    "    else:\n",
    "        return 0.0"
   ]
  },
  {
   "cell_type": "code",
   "execution_count": 104,
   "metadata": {},
   "outputs": [
    {
     "name": "stdout",
     "output_type": "stream",
     "text": [
      "DIA:\n",
      "precision\n",
      "0.0307652541945\n",
      "recall\n",
      "0.602070769067\n",
      "f1\n",
      "0.02926960472\n",
      "----------------------------------------\n",
      "NOITE:\n",
      "precision\n",
      "0.0116775812473\n",
      "recall\n",
      "0.0\n",
      "f1\n",
      "0.0\n",
      "----------------------------------------\n",
      "Para epsilon de valor:\n",
      "1.0527717316e-50\n",
      "melhor epsilon: 0.000000\n",
      "melhor f1 dia: 0.029270\n",
      "melhor f1 noite: 0.000000\n",
      "----------------------------------------\n"
     ]
    },
    {
     "ename": "KeyboardInterrupt",
     "evalue": "",
     "output_type": "error",
     "traceback": [
      "\u001b[0;31m---------------------------------------------------------------------------\u001b[0m",
      "\u001b[0;31mKeyboardInterrupt\u001b[0m                         Traceback (most recent call last)",
      "\u001b[0;32m<ipython-input-104-e45d249d305f>\u001b[0m in \u001b[0;36m<module>\u001b[0;34m()\u001b[0m\n\u001b[1;32m     28\u001b[0m \u001b[0;34m\u001b[0m\u001b[0m\n\u001b[1;32m     29\u001b[0m     \u001b[0mprecisionDia\u001b[0m \u001b[0;34m=\u001b[0m \u001b[0mclassCrossDataDia\u001b[0m\u001b[0;34m.\u001b[0m\u001b[0mmap\u001b[0m\u001b[0;34m(\u001b[0m\u001b[0;32mlambda\u001b[0m \u001b[0;34m(\u001b[0m\u001b[0mp\u001b[0m\u001b[0;34m,\u001b[0m\u001b[0mc\u001b[0m\u001b[0;34m)\u001b[0m\u001b[0;34m:\u001b[0m \u001b[0mtestaPrecision\u001b[0m\u001b[0;34m(\u001b[0m\u001b[0mp\u001b[0m\u001b[0;34m,\u001b[0m\u001b[0mc\u001b[0m\u001b[0;34m)\u001b[0m\u001b[0;34m)\u001b[0m\u001b[0;34m.\u001b[0m\u001b[0mreduce\u001b[0m\u001b[0;34m(\u001b[0m\u001b[0;32mlambda\u001b[0m \u001b[0mx\u001b[0m\u001b[0;34m,\u001b[0m\u001b[0my\u001b[0m\u001b[0;34m:\u001b[0m \u001b[0mx\u001b[0m\u001b[0;34m+\u001b[0m\u001b[0my\u001b[0m\u001b[0;34m)\u001b[0m\u001b[0;34m\u001b[0m\u001b[0m\n\u001b[0;32m---> 30\u001b[0;31m     \u001b[0mprecisionCount\u001b[0m \u001b[0;34m=\u001b[0m \u001b[0mclassCrossDataDia\u001b[0m\u001b[0;34m.\u001b[0m\u001b[0mcount\u001b[0m\u001b[0;34m(\u001b[0m\u001b[0;34m)\u001b[0m\u001b[0;34m\u001b[0m\u001b[0m\n\u001b[0m\u001b[1;32m     31\u001b[0m     \u001b[0mprecisionDia\u001b[0m \u001b[0;34m=\u001b[0m \u001b[0mprecisionDia\u001b[0m\u001b[0;34m/\u001b[0m\u001b[0mprecisionCount\u001b[0m\u001b[0;34m\u001b[0m\u001b[0m\n\u001b[1;32m     32\u001b[0m     \u001b[0mrecall\u001b[0m \u001b[0;34m=\u001b[0m \u001b[0mclassCrossDataDia\u001b[0m\u001b[0;34m.\u001b[0m\u001b[0mmap\u001b[0m\u001b[0;34m(\u001b[0m\u001b[0;32mlambda\u001b[0m \u001b[0;34m(\u001b[0m\u001b[0mp\u001b[0m\u001b[0;34m,\u001b[0m\u001b[0mc\u001b[0m\u001b[0;34m)\u001b[0m\u001b[0;34m:\u001b[0m \u001b[0mtestaRecall\u001b[0m\u001b[0;34m(\u001b[0m\u001b[0mp\u001b[0m\u001b[0;34m,\u001b[0m\u001b[0mc\u001b[0m\u001b[0;34m)\u001b[0m\u001b[0;34m)\u001b[0m\u001b[0;34m.\u001b[0m\u001b[0mreduce\u001b[0m\u001b[0;34m(\u001b[0m\u001b[0;32mlambda\u001b[0m \u001b[0mx\u001b[0m\u001b[0;34m,\u001b[0m\u001b[0my\u001b[0m\u001b[0;34m:\u001b[0m \u001b[0mx\u001b[0m\u001b[0;34m+\u001b[0m\u001b[0my\u001b[0m\u001b[0;34m)\u001b[0m\u001b[0;34m\u001b[0m\u001b[0m\n",
      "\u001b[0;32m/home/ivan/spark-2.2.0-bin-hadoop2.7/python/pyspark/rdd.py\u001b[0m in \u001b[0;36mcount\u001b[0;34m(self)\u001b[0m\n\u001b[1;32m   1039\u001b[0m         \u001b[0;36m3\u001b[0m\u001b[0;34m\u001b[0m\u001b[0m\n\u001b[1;32m   1040\u001b[0m         \"\"\"\n\u001b[0;32m-> 1041\u001b[0;31m         \u001b[0;32mreturn\u001b[0m \u001b[0mself\u001b[0m\u001b[0;34m.\u001b[0m\u001b[0mmapPartitions\u001b[0m\u001b[0;34m(\u001b[0m\u001b[0;32mlambda\u001b[0m \u001b[0mi\u001b[0m\u001b[0;34m:\u001b[0m \u001b[0;34m[\u001b[0m\u001b[0msum\u001b[0m\u001b[0;34m(\u001b[0m\u001b[0;36m1\u001b[0m \u001b[0;32mfor\u001b[0m \u001b[0m_\u001b[0m \u001b[0;32min\u001b[0m \u001b[0mi\u001b[0m\u001b[0;34m)\u001b[0m\u001b[0;34m]\u001b[0m\u001b[0;34m)\u001b[0m\u001b[0;34m.\u001b[0m\u001b[0msum\u001b[0m\u001b[0;34m(\u001b[0m\u001b[0;34m)\u001b[0m\u001b[0;34m\u001b[0m\u001b[0m\n\u001b[0m\u001b[1;32m   1042\u001b[0m \u001b[0;34m\u001b[0m\u001b[0m\n\u001b[1;32m   1043\u001b[0m     \u001b[0;32mdef\u001b[0m \u001b[0mstats\u001b[0m\u001b[0;34m(\u001b[0m\u001b[0mself\u001b[0m\u001b[0;34m)\u001b[0m\u001b[0;34m:\u001b[0m\u001b[0;34m\u001b[0m\u001b[0m\n",
      "\u001b[0;32m/home/ivan/spark-2.2.0-bin-hadoop2.7/python/pyspark/rdd.py\u001b[0m in \u001b[0;36msum\u001b[0;34m(self)\u001b[0m\n\u001b[1;32m   1030\u001b[0m         \u001b[0;36m6.0\u001b[0m\u001b[0;34m\u001b[0m\u001b[0m\n\u001b[1;32m   1031\u001b[0m         \"\"\"\n\u001b[0;32m-> 1032\u001b[0;31m         \u001b[0;32mreturn\u001b[0m \u001b[0mself\u001b[0m\u001b[0;34m.\u001b[0m\u001b[0mmapPartitions\u001b[0m\u001b[0;34m(\u001b[0m\u001b[0;32mlambda\u001b[0m \u001b[0mx\u001b[0m\u001b[0;34m:\u001b[0m \u001b[0;34m[\u001b[0m\u001b[0msum\u001b[0m\u001b[0;34m(\u001b[0m\u001b[0mx\u001b[0m\u001b[0;34m)\u001b[0m\u001b[0;34m]\u001b[0m\u001b[0;34m)\u001b[0m\u001b[0;34m.\u001b[0m\u001b[0mfold\u001b[0m\u001b[0;34m(\u001b[0m\u001b[0;36m0\u001b[0m\u001b[0;34m,\u001b[0m \u001b[0moperator\u001b[0m\u001b[0;34m.\u001b[0m\u001b[0madd\u001b[0m\u001b[0;34m)\u001b[0m\u001b[0;34m\u001b[0m\u001b[0m\n\u001b[0m\u001b[1;32m   1033\u001b[0m \u001b[0;34m\u001b[0m\u001b[0m\n\u001b[1;32m   1034\u001b[0m     \u001b[0;32mdef\u001b[0m \u001b[0mcount\u001b[0m\u001b[0;34m(\u001b[0m\u001b[0mself\u001b[0m\u001b[0;34m)\u001b[0m\u001b[0;34m:\u001b[0m\u001b[0;34m\u001b[0m\u001b[0m\n",
      "\u001b[0;32m/home/ivan/spark-2.2.0-bin-hadoop2.7/python/pyspark/rdd.py\u001b[0m in \u001b[0;36mfold\u001b[0;34m(self, zeroValue, op)\u001b[0m\n\u001b[1;32m    904\u001b[0m         \u001b[0;31m# zeroValue provided to each partition is unique from the one provided\u001b[0m\u001b[0;34m\u001b[0m\u001b[0;34m\u001b[0m\u001b[0m\n\u001b[1;32m    905\u001b[0m         \u001b[0;31m# to the final reduce call\u001b[0m\u001b[0;34m\u001b[0m\u001b[0;34m\u001b[0m\u001b[0m\n\u001b[0;32m--> 906\u001b[0;31m         \u001b[0mvals\u001b[0m \u001b[0;34m=\u001b[0m \u001b[0mself\u001b[0m\u001b[0;34m.\u001b[0m\u001b[0mmapPartitions\u001b[0m\u001b[0;34m(\u001b[0m\u001b[0mfunc\u001b[0m\u001b[0;34m)\u001b[0m\u001b[0;34m.\u001b[0m\u001b[0mcollect\u001b[0m\u001b[0;34m(\u001b[0m\u001b[0;34m)\u001b[0m\u001b[0;34m\u001b[0m\u001b[0m\n\u001b[0m\u001b[1;32m    907\u001b[0m         \u001b[0;32mreturn\u001b[0m \u001b[0mreduce\u001b[0m\u001b[0;34m(\u001b[0m\u001b[0mop\u001b[0m\u001b[0;34m,\u001b[0m \u001b[0mvals\u001b[0m\u001b[0;34m,\u001b[0m \u001b[0mzeroValue\u001b[0m\u001b[0;34m)\u001b[0m\u001b[0;34m\u001b[0m\u001b[0m\n\u001b[1;32m    908\u001b[0m \u001b[0;34m\u001b[0m\u001b[0m\n",
      "\u001b[0;32m/home/ivan/spark-2.2.0-bin-hadoop2.7/python/pyspark/rdd.py\u001b[0m in \u001b[0;36mcollect\u001b[0;34m(self)\u001b[0m\n\u001b[1;32m    807\u001b[0m         \"\"\"\n\u001b[1;32m    808\u001b[0m         \u001b[0;32mwith\u001b[0m \u001b[0mSCCallSiteSync\u001b[0m\u001b[0;34m(\u001b[0m\u001b[0mself\u001b[0m\u001b[0;34m.\u001b[0m\u001b[0mcontext\u001b[0m\u001b[0;34m)\u001b[0m \u001b[0;32mas\u001b[0m \u001b[0mcss\u001b[0m\u001b[0;34m:\u001b[0m\u001b[0;34m\u001b[0m\u001b[0m\n\u001b[0;32m--> 809\u001b[0;31m             \u001b[0mport\u001b[0m \u001b[0;34m=\u001b[0m \u001b[0mself\u001b[0m\u001b[0;34m.\u001b[0m\u001b[0mctx\u001b[0m\u001b[0;34m.\u001b[0m\u001b[0m_jvm\u001b[0m\u001b[0;34m.\u001b[0m\u001b[0mPythonRDD\u001b[0m\u001b[0;34m.\u001b[0m\u001b[0mcollectAndServe\u001b[0m\u001b[0;34m(\u001b[0m\u001b[0mself\u001b[0m\u001b[0;34m.\u001b[0m\u001b[0m_jrdd\u001b[0m\u001b[0;34m.\u001b[0m\u001b[0mrdd\u001b[0m\u001b[0;34m(\u001b[0m\u001b[0;34m)\u001b[0m\u001b[0;34m)\u001b[0m\u001b[0;34m\u001b[0m\u001b[0m\n\u001b[0m\u001b[1;32m    810\u001b[0m         \u001b[0;32mreturn\u001b[0m \u001b[0mlist\u001b[0m\u001b[0;34m(\u001b[0m\u001b[0m_load_from_socket\u001b[0m\u001b[0;34m(\u001b[0m\u001b[0mport\u001b[0m\u001b[0;34m,\u001b[0m \u001b[0mself\u001b[0m\u001b[0;34m.\u001b[0m\u001b[0m_jrdd_deserializer\u001b[0m\u001b[0;34m)\u001b[0m\u001b[0;34m)\u001b[0m\u001b[0;34m\u001b[0m\u001b[0m\n\u001b[1;32m    811\u001b[0m \u001b[0;34m\u001b[0m\u001b[0m\n",
      "\u001b[0;32m/home/ivan/spark-2.2.0-bin-hadoop2.7/python/lib/py4j-0.10.4-src.zip/py4j/java_gateway.py\u001b[0m in \u001b[0;36m__call__\u001b[0;34m(self, *args)\u001b[0m\n\u001b[1;32m   1129\u001b[0m             \u001b[0mproto\u001b[0m\u001b[0;34m.\u001b[0m\u001b[0mEND_COMMAND_PART\u001b[0m\u001b[0;34m\u001b[0m\u001b[0m\n\u001b[1;32m   1130\u001b[0m \u001b[0;34m\u001b[0m\u001b[0m\n\u001b[0;32m-> 1131\u001b[0;31m         \u001b[0manswer\u001b[0m \u001b[0;34m=\u001b[0m \u001b[0mself\u001b[0m\u001b[0;34m.\u001b[0m\u001b[0mgateway_client\u001b[0m\u001b[0;34m.\u001b[0m\u001b[0msend_command\u001b[0m\u001b[0;34m(\u001b[0m\u001b[0mcommand\u001b[0m\u001b[0;34m)\u001b[0m\u001b[0;34m\u001b[0m\u001b[0m\n\u001b[0m\u001b[1;32m   1132\u001b[0m         return_value = get_return_value(\n\u001b[1;32m   1133\u001b[0m             answer, self.gateway_client, self.target_id, self.name)\n",
      "\u001b[0;32m/home/ivan/spark-2.2.0-bin-hadoop2.7/python/lib/py4j-0.10.4-src.zip/py4j/java_gateway.py\u001b[0m in \u001b[0;36msend_command\u001b[0;34m(self, command, retry, binary)\u001b[0m\n\u001b[1;32m    881\u001b[0m         \u001b[0mconnection\u001b[0m \u001b[0;34m=\u001b[0m \u001b[0mself\u001b[0m\u001b[0;34m.\u001b[0m\u001b[0m_get_connection\u001b[0m\u001b[0;34m(\u001b[0m\u001b[0;34m)\u001b[0m\u001b[0;34m\u001b[0m\u001b[0m\n\u001b[1;32m    882\u001b[0m         \u001b[0;32mtry\u001b[0m\u001b[0;34m:\u001b[0m\u001b[0;34m\u001b[0m\u001b[0m\n\u001b[0;32m--> 883\u001b[0;31m             \u001b[0mresponse\u001b[0m \u001b[0;34m=\u001b[0m \u001b[0mconnection\u001b[0m\u001b[0;34m.\u001b[0m\u001b[0msend_command\u001b[0m\u001b[0;34m(\u001b[0m\u001b[0mcommand\u001b[0m\u001b[0;34m)\u001b[0m\u001b[0;34m\u001b[0m\u001b[0m\n\u001b[0m\u001b[1;32m    884\u001b[0m             \u001b[0;32mif\u001b[0m \u001b[0mbinary\u001b[0m\u001b[0;34m:\u001b[0m\u001b[0;34m\u001b[0m\u001b[0m\n\u001b[1;32m    885\u001b[0m                 \u001b[0;32mreturn\u001b[0m \u001b[0mresponse\u001b[0m\u001b[0;34m,\u001b[0m \u001b[0mself\u001b[0m\u001b[0;34m.\u001b[0m\u001b[0m_create_connection_guard\u001b[0m\u001b[0;34m(\u001b[0m\u001b[0mconnection\u001b[0m\u001b[0;34m)\u001b[0m\u001b[0;34m\u001b[0m\u001b[0m\n",
      "\u001b[0;32m/home/ivan/spark-2.2.0-bin-hadoop2.7/python/lib/py4j-0.10.4-src.zip/py4j/java_gateway.py\u001b[0m in \u001b[0;36msend_command\u001b[0;34m(self, command)\u001b[0m\n\u001b[1;32m   1026\u001b[0m \u001b[0;34m\u001b[0m\u001b[0m\n\u001b[1;32m   1027\u001b[0m         \u001b[0;32mtry\u001b[0m\u001b[0;34m:\u001b[0m\u001b[0;34m\u001b[0m\u001b[0m\n\u001b[0;32m-> 1028\u001b[0;31m             \u001b[0manswer\u001b[0m \u001b[0;34m=\u001b[0m \u001b[0msmart_decode\u001b[0m\u001b[0;34m(\u001b[0m\u001b[0mself\u001b[0m\u001b[0;34m.\u001b[0m\u001b[0mstream\u001b[0m\u001b[0;34m.\u001b[0m\u001b[0mreadline\u001b[0m\u001b[0;34m(\u001b[0m\u001b[0;34m)\u001b[0m\u001b[0;34m[\u001b[0m\u001b[0;34m:\u001b[0m\u001b[0;34m-\u001b[0m\u001b[0;36m1\u001b[0m\u001b[0;34m]\u001b[0m\u001b[0;34m)\u001b[0m\u001b[0;34m\u001b[0m\u001b[0m\n\u001b[0m\u001b[1;32m   1029\u001b[0m             \u001b[0mlogger\u001b[0m\u001b[0;34m.\u001b[0m\u001b[0mdebug\u001b[0m\u001b[0;34m(\u001b[0m\u001b[0;34m\"Answer received: {0}\"\u001b[0m\u001b[0;34m.\u001b[0m\u001b[0mformat\u001b[0m\u001b[0;34m(\u001b[0m\u001b[0manswer\u001b[0m\u001b[0;34m)\u001b[0m\u001b[0;34m)\u001b[0m\u001b[0;34m\u001b[0m\u001b[0m\n\u001b[1;32m   1030\u001b[0m             \u001b[0;32mif\u001b[0m \u001b[0manswer\u001b[0m\u001b[0;34m.\u001b[0m\u001b[0mstartswith\u001b[0m\u001b[0;34m(\u001b[0m\u001b[0mproto\u001b[0m\u001b[0;34m.\u001b[0m\u001b[0mRETURN_MESSAGE\u001b[0m\u001b[0;34m)\u001b[0m\u001b[0;34m:\u001b[0m\u001b[0;34m\u001b[0m\u001b[0m\n",
      "\u001b[0;32m/usr/lib/python2.7/socket.pyc\u001b[0m in \u001b[0;36mreadline\u001b[0;34m(self, size)\u001b[0m\n\u001b[1;32m    449\u001b[0m             \u001b[0;32mwhile\u001b[0m \u001b[0mTrue\u001b[0m\u001b[0;34m:\u001b[0m\u001b[0;34m\u001b[0m\u001b[0m\n\u001b[1;32m    450\u001b[0m                 \u001b[0;32mtry\u001b[0m\u001b[0;34m:\u001b[0m\u001b[0;34m\u001b[0m\u001b[0m\n\u001b[0;32m--> 451\u001b[0;31m                     \u001b[0mdata\u001b[0m \u001b[0;34m=\u001b[0m \u001b[0mself\u001b[0m\u001b[0;34m.\u001b[0m\u001b[0m_sock\u001b[0m\u001b[0;34m.\u001b[0m\u001b[0mrecv\u001b[0m\u001b[0;34m(\u001b[0m\u001b[0mself\u001b[0m\u001b[0;34m.\u001b[0m\u001b[0m_rbufsize\u001b[0m\u001b[0;34m)\u001b[0m\u001b[0;34m\u001b[0m\u001b[0m\n\u001b[0m\u001b[1;32m    452\u001b[0m                 \u001b[0;32mexcept\u001b[0m \u001b[0merror\u001b[0m\u001b[0;34m,\u001b[0m \u001b[0me\u001b[0m\u001b[0;34m:\u001b[0m\u001b[0;34m\u001b[0m\u001b[0m\n\u001b[1;32m    453\u001b[0m                     \u001b[0;32mif\u001b[0m \u001b[0me\u001b[0m\u001b[0;34m.\u001b[0m\u001b[0margs\u001b[0m\u001b[0;34m[\u001b[0m\u001b[0;36m0\u001b[0m\u001b[0;34m]\u001b[0m \u001b[0;34m==\u001b[0m \u001b[0mEINTR\u001b[0m\u001b[0;34m:\u001b[0m\u001b[0;34m\u001b[0m\u001b[0m\n",
      "\u001b[0;31mKeyboardInterrupt\u001b[0m: "
     ]
    }
   ],
   "source": [
    "from pyspark.mllib.evaluation import MulticlassMetrics\n",
    "melhorF1Dia=0\n",
    "melhorF1Noite=0\n",
    "melhorEpsilonDia=0\n",
    "melhorEpsilonNoite=0\n",
    "#other (bad) epsilons tested: 1.0527717316e-70 1.0527717316e-50, 1.0527717316e-24,1.0527717316e-10,\n",
    "# 1.0527717316e-5,1.0527717316e-2, 1.0527717316e-1, 1.0527717316e-5,1.0527717316e-2, 1.0527717316e-1, 0.5\n",
    "#melhor 1e-30\n",
    "epsilons = (1.0527717316e-50,1.0527717316e-29, 1.0527717316e-28,1.0527717316e-27,1.0527717316e-20)\n",
    "for epsilon in epsilons:\n",
    "    classCrossDataDia = crossDataDia.map(lambda (pred,classe): (detectClassDay(True, pred,epsilon ),classe))                                    \n",
    "    classCrossDataNoite = crossDataNoite.map(lambda (pred,classe): (detectClassNoite(False, pred,epsilon ),classe))\n",
    "    \n",
    "    precisionDia = classCrossDataDia.map(lambda (p,c): testaPrecision(p,c)).reduce(lambda x,y: x+y)\n",
    "    precisionCount = classCrossDataDia.count()\n",
    "    precisionDia = precisionDia/precisionCount\n",
    "    recall = classCrossDataDia.map(lambda (p,c): testaRecall(p,c)).reduce(lambda x,y: x+y)\n",
    "    recallCount = classCrossDataDia.map(lambda (p,classe): classe).reduce(lambda x,y:x+y)\n",
    "    recallDia = recall/recallCount\n",
    "    fDia= (precisionDia*recallDia)/(precisionDia+recallDia)\n",
    "    \n",
    "    precisionNoite = classCrossDataNoite.map(lambda (p,c): testaPrecision(p,c)).reduce(lambda x,y: x+y)\n",
    "    precisionCount = classCrossDataNoite.count()\n",
    "    precisionNoite = precisionNoite/precisionCount\n",
    "    recall = classCrossDataNoite.map(lambda (p,c): testaRecall(p,c)).reduce(lambda x,y: x+y)\n",
    "    recallCount = classCrossDataNoite.map(lambda (p,classe): classe).reduce(lambda x,y:x+y)\n",
    "    recallNoite = recall/recallCount\n",
    "    fNoite= (precisionNoite*recallNoite)/(precisionNoite+recallNoite)\n",
    "    \n",
    "    print \"DIA:\"\n",
    "    print \"precision\"\n",
    "    print precisionDia\n",
    "    print \"recall\"\n",
    "    print recallDia\n",
    "    print \"f1\"\n",
    "    print fDia\n",
    "    print ('-'*40)\n",
    "    print \"NOITE:\"\n",
    "    print \"precision\"\n",
    "    print precisionNoite\n",
    "    print \"recall\"\n",
    "    print recallNoite\n",
    "    print \"f1\"\n",
    "    print fNoite\n",
    "    print ('-'*40)\n",
    "    \n",
    "    if fDia > melhorF1Dia:\n",
    "        melhorF1Dia=fDia\n",
    "        melhorEpsilonDia=epsilon\n",
    "    if fNoite > melhorF1Noite:\n",
    "        melhorF1Noite=fNoite\n",
    "        melhorEpsilonNoite=epsilon\n",
    "        \n",
    "    print ('Para epsilon de valor:')\n",
    "    print(epsilon)\n",
    "    print ('melhor epsilon: %f' %melhorEpsilonNoite)\n",
    "    print ('melhor f1 dia: %f' %melhorF1Dia)\n",
    "    print ('melhor f1 noite: %f' %melhorF1Noite)\n",
    "    print ('-'*40)\n",
    "\n",
    "    "
   ]
  },
  {
   "cell_type": "code",
   "execution_count": null,
   "metadata": {},
   "outputs": [],
   "source": [
    "#finalmente o teste final\n",
    "baseDir = os.path.join('Data')\n",
    "inputPath = os.path.join('projeto','test.txt')\n",
    "fileName = os.path.join(baseDir, inputPath)\n",
    "#abrir o arquivo\n",
    "if os.path.isfile(fileName):\n",
    "    rawTestData = (sc.textFile(fileName, 10))\n",
    "\n",
    "processedTestData = rawTestData.map(parseMessage).filter(lambda msg: msg[0]==u'poste')\n",
    "testDataDia = processedTestData.filter(lambda x: x[2]==u'dia').map(lambda x: (float(x[3]), float(x[4])))\n",
    "testDataNoite = processedTestData.filter(lambda x: x[2]==u'noite').map(lambda x: (float(x[3]), float(x[4])))\n",
    "\n",
    "print testDataDia.take(1)\n",
    "print testDataNoite.take(1)\n",
    "\n",
    "classTestDataDia = testDataDia.map(lambda (pred,classe): (detectClassDay(True, pred,melhorEpsilonDia ),classe))                                    \n",
    "classTestDataNoite = testDataNoite.map(lambda (pred,classe): (detectClassNoite(False, pred,melhorEpsilonNoite ),classe)) \n",
    "\n",
    "precisionDia = classTestDataDia.map(lambda (p,c): testaPrecision(p,c)).reduce(lambda x,y: x+y)\n",
    "precisionCount = classTestDataDia.count()\n",
    "precisionDia = precisionDia/precisionCount\n",
    "recall = classTestDataDia.map(lambda (p,c): testaRecall(p,c)).reduce(lambda x,y: x+y)\n",
    "recallCount = classTestDataDia.map(lambda (p,classe): classe).reduce(lambda x,y:x+y)\n",
    "recallDia = recall/recallCount\n",
    "fDia= (precisionDia*recallDia)/(precisionDia+recallDia)\n",
    "\n",
    "precisionNoite = classTestDataNoite.map(lambda (p,c): testaPrecision(p,c)).reduce(lambda x,y: x+y)\n",
    "precisionCount = classTestDataNoite.count()\n",
    "precisionNoite = precisionNoite/precisionCount\n",
    "recall = classTestDataNoite.map(lambda (p,c): testaRecall(p,c)).reduce(lambda x,y: x+y)\n",
    "recallCount = classTestDataNoite.map(lambda (p,classe): classe).reduce(lambda x,y:x+y)\n",
    "recallNoite = recall/recallCount\n",
    "fNoite= (precisionNoite*recallNoite)/(precisionNoite+recallNoite)\n",
    "\n",
    "print \"DIA:\"\n",
    "print \"precision\"\n",
    "print precisionDia\n",
    "print \"recall\"\n",
    "print recallDia\n",
    "print \"f1\"\n",
    "print fDia\n",
    "print ('-'*40)\n",
    "print \"NOITE:\"\n",
    "print \"precision\"\n",
    "print precisionNoite\n",
    "print \"recall\"\n",
    "print recallNoite\n",
    "print \"f1\"\n",
    "print fNoite\n",
    "print ('-'*40)\n",
    "\n"
   ]
  },
  {
   "cell_type": "code",
   "execution_count": 109,
   "metadata": {},
   "outputs": [
    {
     "data": {
      "text/plain": [
       "PythonRDD[1955] at RDD at PythonRDD.scala:48"
      ]
     },
     "execution_count": 109,
     "metadata": {},
     "output_type": "execute_result"
    }
   ],
   "source": [
    "#A métrica F1 foi extremamente ruim, isso é devido a pouca variabilidade dos erros, da forma que eles foram gerados\n",
    "#boa parte dos erros tem pouca diferença de valores corretos, então foi gerado um novo conjunto de dados com \n",
    "#erros maiores\n",
    "baseDir = os.path.join('Data')\n",
    "inputPath = os.path.join('projeto','crossValidationBigError.txt')\n",
    "fileName = os.path.join(baseDir, inputPath)\n",
    "#abrir o arquivo\n",
    "if os.path.isfile(fileName):\n",
    "    rawCrossData = (sc\n",
    "               .textFile(fileName, 10))\n",
    "processedCrossData = rawCrossData.map(parseMessage).filter(lambda msg: msg[0]==u'poste')\n",
    "crossDataDia = processedCrossData.filter(lambda x: x[2]==u'dia').map(lambda x: (float(x[3]), float(x[4])))\n",
    "crossDataNoite = processedCrossData.filter(lambda x: x[2]==u'noite').map(lambda x: (float(x[3]), float(x[4])))\n",
    "crossDataDia.cache()\n",
    "crossDataNoite.cache()\n",
    "\n"
   ]
  },
  {
   "cell_type": "code",
   "execution_count": 112,
   "metadata": {},
   "outputs": [
    {
     "name": "stdout",
     "output_type": "stream",
     "text": [
      "recall noite: 0.000000\n",
      "recallCount noite: 39134.000000\n",
      "recallNoite: 0.000000\n",
      "DIA:\n",
      "precision\n",
      "0.36382327242\n",
      "recall\n",
      "0.331936809521\n",
      "f1\n",
      "0.173574683876\n",
      "----------------------------------------\n",
      "NOITE:\n",
      "precision\n",
      "0.288310178101\n",
      "recall\n",
      "0.0\n",
      "f1\n",
      "0.0\n",
      "----------------------------------------\n",
      "Para epsilon de valor:\n",
      "1.0527717316e-10\n",
      "melhor epsilon: 0.000000\n",
      "melhor f1 dia: 0.173575\n",
      "melhor f1 noite: 0.000000\n",
      "----------------------------------------\n",
      "recall noite: 0.000000\n",
      "recallCount noite: 39134.000000\n",
      "recallNoite: 0.000000\n",
      "DIA:\n",
      "precision\n",
      "0.4215136993\n",
      "recall\n",
      "0.297779793991\n",
      "f1\n",
      "0.17450215206\n",
      "----------------------------------------\n",
      "NOITE:\n",
      "precision\n",
      "0.35007293388\n",
      "recall\n",
      "0.0\n",
      "f1\n",
      "0.0\n",
      "----------------------------------------\n",
      "Para epsilon de valor:\n",
      "1.0527717316e-08\n",
      "melhor epsilon: 0.000000\n",
      "melhor f1 dia: 0.174502\n",
      "melhor f1 noite: 0.000000\n",
      "----------------------------------------\n"
     ]
    }
   ],
   "source": [
    "melhorF1Dia=0\n",
    "melhorF1Noite=0\n",
    "melhorEpsilonDia=0\n",
    "melhorEpsilonNoite=0\n",
    "#other (bad) epsilons tested: 1.0527717316e-70 1.0527717316e-50, 1.0527717316e-24,1.0527717316e-10,\n",
    "# 1.0527717316e-5,1.0527717316e-2, 1.0527717316e-1, 1.0527717316e-5,1.0527717316e-2, 1.0527717316e-1, 0.5\n",
    "#melhor 1e-30 1.0527717316e-50,1.0527717316e-29, 1.0527717316e-28,1.0527717316e-27 1.0527717316e-15,1.0527717316e-7\n",
    "\n",
    "epsilons = (1.0527717316e-10,1.0527717316e-8 )\n",
    "for epsilon in epsilons:\n",
    "    classCrossDataDia = crossDataDia.map(lambda (pred,classe): (detectClassDay(True, pred,epsilon ),classe))                                    \n",
    "    classCrossDataNoite = crossDataNoite.map(lambda (pred,classe): (detectClassNoite(False, pred,epsilon ),classe))\n",
    "    #print classCrossDataNoite.take(100)\n",
    "    \n",
    "    precisionDia = classCrossDataDia.map(lambda (p,c): testaPrecision(p,c)).reduce(lambda x,y: x+y)\n",
    "    precisionCount = classCrossDataDia.count()\n",
    "    precisionDia = precisionDia/precisionCount\n",
    "    recall = classCrossDataDia.map(lambda (p,c): testaRecall(p,c)).reduce(lambda x,y: x+y)\n",
    "    recallCount = classCrossDataDia.map(lambda (p,classe): classe).reduce(lambda x,y:x+y)\n",
    "    recallDia = recall/recallCount\n",
    "    fDia= (precisionDia*recallDia)/(precisionDia+recallDia)\n",
    "    \n",
    "    precisionNoite = classCrossDataNoite.map(lambda (p,c): testaPrecision(p,c)).reduce(lambda x,y: x+y)\n",
    "    precisionCount = classCrossDataNoite.count()\n",
    "    precisionNoite = precisionNoite/precisionCount\n",
    "    recall = classCrossDataNoite.map(lambda (p,c): testaRecall(p,c)).reduce(lambda x,y: x+y)\n",
    "    recallCount = classCrossDataNoite.map(lambda (p,classe): classe).reduce(lambda x,y:x+y)\n",
    "    recallNoite = recall/recallCount\n",
    "    print ('recall noite: %f' %recall)\n",
    "    print ('recallCount noite: %f' %recallCount )\n",
    "    print ('recallNoite: %f' %recallNoite)\n",
    "    fNoite= (precisionNoite*recallNoite)/(precisionNoite+recallNoite)\n",
    "    \n",
    "    print \"DIA:\"\n",
    "    print \"precision\"\n",
    "    print precisionDia\n",
    "    print \"recall\"\n",
    "    print recallDia\n",
    "    print \"f1\"\n",
    "    print fDia\n",
    "    print ('-'*40)\n",
    "    print \"NOITE:\"\n",
    "    print \"precision\"\n",
    "    print precisionNoite\n",
    "    print \"recall\"\n",
    "    print recallNoite\n",
    "    print \"f1\"\n",
    "    print fNoite\n",
    "    print ('-'*40)\n",
    "    \n",
    "    if fDia > melhorF1Dia:\n",
    "        melhorF1Dia=fDia\n",
    "        melhorEpsilonDia=epsilon\n",
    "    if fNoite > melhorF1Noite:\n",
    "        melhorF1Noite=fNoite\n",
    "        melhorEpsilonNoite=epsilon\n",
    "        \n",
    "    print ('Para epsilon de valor:')\n",
    "    print(epsilon)\n",
    "    print ('melhor epsilon: %f' %melhorEpsilonNoite)\n",
    "    print ('melhor f1 dia: %f' %melhorF1Dia)\n",
    "    print ('melhor f1 noite: %f' %melhorF1Noite)\n",
    "    print ('-'*40)"
   ]
  },
  {
   "cell_type": "code",
   "execution_count": 116,
   "metadata": {},
   "outputs": [
    {
     "name": "stdout",
     "output_type": "stream",
     "text": [
      "[(0.20564404834358851, 0.0)]\n",
      "[(0.7702182139213366, 0.0)]\n",
      "DIA:\n",
      "precision\n",
      "0.420872478409\n",
      "recall\n",
      "0.294213297543\n",
      "f1\n",
      "0.173162834281\n",
      "----------------------------------------\n",
      "NOITE:\n",
      "precision\n",
      "0.0200752041322\n",
      "recall\n",
      "1.0\n",
      "f1\n",
      "0.0196801216723\n",
      "----------------------------------------\n"
     ]
    }
   ],
   "source": [
    "#finalmente o teste final\n",
    "baseDir = os.path.join('Data')\n",
    "inputPath = os.path.join('projeto','TestBigError.txt')\n",
    "fileName = os.path.join(baseDir, inputPath)\n",
    "#abrir o arquivo\n",
    "if os.path.isfile(fileName):\n",
    "    rawTestData = (sc.textFile(fileName, 10))\n",
    "\n",
    "processedTestData = rawTestData.map(parseMessage).filter(lambda msg: msg[0]==u'poste')\n",
    "testDataDia = processedTestData.filter(lambda x: x[2]==u'dia').map(lambda x: (float(x[3]), float(x[4])))\n",
    "testDataNoite = processedTestData.filter(lambda x: x[2]==u'noite').map(lambda x: (float(x[3]), float(x[4] )))\n",
    "\n",
    "print testDataDia.take(1)\n",
    "print testDataNoite.take(1)\n",
    "\n",
    "classTestDataDia = testDataDia.map(lambda (pred,classe): (detectClassDay(True, pred,melhorEpsilonDia ),classe))                                    \n",
    "classTestDataNoite = testDataNoite.map(lambda (pred,classe): (detectClassNoite(False, pred,melhorEpsilonNoite ),classe)) \n",
    "\n",
    "precisionDia = classTestDataDia.map(lambda (p,c): testaPrecision(p,c)).reduce(lambda x,y: x+y)\n",
    "precisionCount = classTestDataDia.count()\n",
    "precisionDia = precisionDia/precisionCount\n",
    "recall = classTestDataDia.map(lambda (p,c): testaRecall(p,c)).reduce(lambda x,y: x+y)\n",
    "recallCount = classTestDataDia.map(lambda (p,classe): classe).reduce(lambda x,y:x+y)\n",
    "recallDia = recall/recallCount\n",
    "fDia= (precisionDia*recallDia)/(precisionDia+recallDia)\n",
    "\n",
    "precisionNoite = classTestDataNoite.map(lambda (p,c): testaPrecision(p,c)).reduce(lambda x,y: x+y)\n",
    "precisionCount = classTestDataNoite.count()\n",
    "precisionNoite = precisionNoite/precisionCount\n",
    "recall = classTestDataNoite.map(lambda (p,c): testaRecall(p,c)).reduce(lambda x,y: x+y)\n",
    "recallCount = classTestDataNoite.map(lambda (p,classe): classe).reduce(lambda x,y:x+y)\n",
    "recallNoite = recall/recallCount\n",
    "fNoite= (precisionNoite*recallNoite)/(precisionNoite+recallNoite)\n",
    "\n",
    "print \"DIA:\"\n",
    "print \"precision\"\n",
    "print precisionDia\n",
    "print \"recall\"\n",
    "print recallDia\n",
    "print \"f1\"\n",
    "print fDia\n",
    "print ('-'*40)\n",
    "print \"NOITE:\"\n",
    "print \"precision\"\n",
    "print precisionNoite\n",
    "print \"recall\"\n",
    "print recallNoite\n",
    "print \"f1\"\n",
    "print fNoite\n",
    "print ('-'*40)\n"
   ]
  },
  {
   "cell_type": "code",
   "execution_count": 117,
   "metadata": {},
   "outputs": [
    {
     "name": "stdout",
     "output_type": "stream",
     "text": [
      "0.697566729763\n",
      "0.0248366052321\n"
     ]
    }
   ],
   "source": []
  },
  {
   "cell_type": "code",
   "execution_count": null,
   "metadata": {},
   "outputs": [],
   "source": []
  }
 ],
 "metadata": {
  "kernelspec": {
   "display_name": "Python 2",
   "language": "python",
   "name": "python2"
  },
  "language_info": {
   "codemirror_mode": {
    "name": "ipython",
    "version": 2
   },
   "file_extension": ".py",
   "mimetype": "text/x-python",
   "name": "python",
   "nbconvert_exporter": "python",
   "pygments_lexer": "ipython2",
   "version": "2.7.12"
  }
 },
 "nbformat": 4,
 "nbformat_minor": 2
}
